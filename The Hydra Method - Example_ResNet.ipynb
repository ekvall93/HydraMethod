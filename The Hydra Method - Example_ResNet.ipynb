{
 "cells": [
  {
   "cell_type": "code",
   "execution_count": 1,
   "metadata": {},
   "outputs": [
    {
     "name": "stderr",
     "output_type": "stream",
     "text": [
      "/home/paperspace/anaconda3/lib/python3.6/site-packages/h5py/__init__.py:36: FutureWarning: Conversion of the second argument of issubdtype from `float` to `np.floating` is deprecated. In future, it will be treated as `np.float64 == np.dtype(float).type`.\n",
      "  from ._conv import register_converters as _register_converters\n",
      "Using TensorFlow backend.\n"
     ]
    }
   ],
   "source": [
    "from utils import split_data\n",
    "import numpy as np\n",
    "\n",
    "PATH = \"./data/\"\n",
    "splitter = split_data(PATH + \"raw.csv\", PATH, test_size=0.1,\n",
    "                          train_size=0.9)\n",
    "x_train, y_train, x_test, y_test = splitter.split()"
   ]
  },
  {
   "cell_type": "code",
   "execution_count": 2,
   "metadata": {},
   "outputs": [],
   "source": [
    "from utils import translate\n",
    "\n",
    "translater = translate()\n",
    "x_train = translater.translate(x_train)\n",
    "x_test = translater.translate(x_test)"
   ]
  },
  {
   "cell_type": "code",
   "execution_count": 3,
   "metadata": {},
   "outputs": [],
   "source": [
    "from utils import standardize\n",
    "\n",
    "y_train_std, y_test_std = standardize(y_train, y_test)"
   ]
  },
  {
   "cell_type": "code",
   "execution_count": 4,
   "metadata": {},
   "outputs": [],
   "source": [
    "from modelArchitecture.ResnetRnnDense import ResnetRnnDense"
   ]
  },
  {
   "cell_type": "code",
   "execution_count": 5,
   "metadata": {},
   "outputs": [],
   "source": [
    "from HydraMethod import HydraMethod"
   ]
  },
  {
   "cell_type": "code",
   "execution_count": 6,
   "metadata": {},
   "outputs": [],
   "source": [
    "from keras.losses import mean_squared_error\n",
    "#one_head_hydra = HydraMethod(ResnetRnnDense(), 1);one_head_hydra.compile(loss=mean_squared_error)\n",
    "one_head_hydra = HydraMethod(ResnetRnnDense(), 1);one_head_hydra.compile()"
   ]
  },
  {
   "cell_type": "code",
   "execution_count": 7,
   "metadata": {},
   "outputs": [],
   "source": [
    "from utils import LRFinder"
   ]
  },
  {
   "cell_type": "code",
   "execution_count": 8,
   "metadata": {},
   "outputs": [],
   "source": [
    "from utils import result\n",
    "def T95(model, x, y):\n",
    "    predict_train = model.predict(x)\n",
    "    res_train = result(y, predict_train)\n",
    "    print(np.round(res_train.t95()[0], 4))"
   ]
  },
  {
   "cell_type": "code",
   "execution_count": null,
   "metadata": {},
   "outputs": [],
   "source": [
    "lr_finder = LRFinder(one_head_hydra.get_model())\n",
    "lr_finder.find(one_head_hydra.get_all_representation(x_train), \n",
    "               y_train_std, 0.000001, 1, 256, 3,fit=True)"
   ]
  },
  {
   "cell_type": "code",
   "execution_count": null,
   "metadata": {},
   "outputs": [],
   "source": [
    "lr_finder.plot_loss()"
   ]
  },
  {
   "cell_type": "code",
   "execution_count": null,
   "metadata": {},
   "outputs": [],
   "source": [
    "one_head_hydra.compile(learning_rate=1e-3)\n",
    "trained_one_head_hydra = one_head_hydra.fit(x_train, y_train_std, x_test, y_test_std, batch_size=256)"
   ]
  },
  {
   "cell_type": "code",
   "execution_count": null,
   "metadata": {},
   "outputs": [],
   "source": [
    "T95(trained_one_head_hydra, one_head_hydra.get_all_representation(x_test), y_test_std)"
   ]
  },
  {
   "cell_type": "code",
   "execution_count": null,
   "metadata": {},
   "outputs": [],
   "source": [
    "#two_head_hydra = HydraMethod(ResnetRnnDense(), 2);two_head_hydra.compile(loss=mean_squared_error)\n",
    "two_head_hydra = HydraMethod(ResnetRnnDense(), 2);two_head_hydra.compile()"
   ]
  },
  {
   "cell_type": "code",
   "execution_count": null,
   "metadata": {},
   "outputs": [],
   "source": [
    "lr_finder = LRFinder(two_head_hydra.get_model())\n",
    "lr_finder.find(two_head_hydra.get_all_representation(x_train), \n",
    "               y_train_std, 0.000001, 1, 256, 3,fit=True)"
   ]
  },
  {
   "cell_type": "code",
   "execution_count": null,
   "metadata": {},
   "outputs": [],
   "source": [
    "lr_finder.plot_loss()"
   ]
  },
  {
   "cell_type": "code",
   "execution_count": null,
   "metadata": {},
   "outputs": [],
   "source": [
    "two_head_hydra.compile(learning_rate=1e-3)\n",
    "trained_two_head_hydra = two_head_hydra.fit(x_train, y_train_std, x_test, y_test_std, batch_size=256)"
   ]
  },
  {
   "cell_type": "code",
   "execution_count": null,
   "metadata": {},
   "outputs": [],
   "source": [
    "T95(trained_two_head_hydra, two_head_hydra.get_all_representation(x_test), y_test_std)"
   ]
  },
  {
   "cell_type": "code",
   "execution_count": null,
   "metadata": {},
   "outputs": [],
   "source": [
    "#three_head_hydra = HydraMethod(ResnetRnnDense(), 3);three_head_hydra.compile(loss=mean_squared_error)\n",
    "three_head_hydra = HydraMethod(ResnetRnnDense(), 3);three_head_hydra.compile()"
   ]
  },
  {
   "cell_type": "code",
   "execution_count": null,
   "metadata": {},
   "outputs": [],
   "source": [
    "lr_finder = LRFinder(three_head_hydra.get_model())\n",
    "lr_finder.find(three_head_hydra.get_all_representation(x_train), \n",
    "               y_train_std, 0.000001, 1, 256, 3,fit=True)"
   ]
  },
  {
   "cell_type": "code",
   "execution_count": null,
   "metadata": {},
   "outputs": [],
   "source": [
    "lr_finder.plot_loss()"
   ]
  },
  {
   "cell_type": "code",
   "execution_count": null,
   "metadata": {},
   "outputs": [],
   "source": [
    "three_head_hydra.compile(learning_rate=1e-3)\n",
    "trained_three_head_hydra = three_head_hydra.fit(x_train, y_train_std, x_test, y_test_std, batch_size=256)"
   ]
  },
  {
   "cell_type": "code",
   "execution_count": null,
   "metadata": {},
   "outputs": [],
   "source": [
    "T95(trained_three_head_hydra, three_head_hydra.get_all_representation(x_test), y_test_std)"
   ]
  },
  {
   "cell_type": "code",
   "execution_count": 9,
   "metadata": {},
   "outputs": [],
   "source": [
    "#four_head_hydra = HydraMethod(ResnetRnnDense(), 4);four_head_hydra.compile(loss=mean_squared_error)\n",
    "four_head_hydra = HydraMethod(ResnetRnnDense(), 4);four_head_hydra.compile()"
   ]
  },
  {
   "cell_type": "code",
   "execution_count": 10,
   "metadata": {},
   "outputs": [
    {
     "name": "stdout",
     "output_type": "stream",
     "text": [
      "Epoch 1/3\n",
      "974880/974880 [==============================] - 675s 693us/step - loss: 0.4211\n",
      "Epoch 2/3\n",
      "974880/974880 [==============================] - 640s 657us/step - loss: 0.1573\n",
      "Epoch 3/3\n",
      "215552/974880 [=====>........................] - ETA: 8:07 - loss: 0.1868"
     ]
    }
   ],
   "source": [
    "lr_finder = LRFinder(four_head_hydra.get_model())\n",
    "lr_finder.find(four_head_hydra.get_all_representation(x_train), \n",
    "               y_train_std, 0.000001, 1, 256, 3,fit=True)"
   ]
  },
  {
   "cell_type": "code",
   "execution_count": 11,
   "metadata": {},
   "outputs": [
    {
     "data": {
      "image/png": "[encoded data removed]",
      "text/plain": [
       "<Figure size 432x288 with 1 Axes>"
      ]
     },
     "metadata": {},
     "output_type": "display_data"
    }
   ],
   "source": [
    "lr_finder.plot_loss()"
   ]
  },
  {
   "cell_type": "code",
   "execution_count": null,
   "metadata": {},
   "outputs": [],
   "source": [
    "four_head_hydra.compile(learning_rate=1e-3)\n",
    "trained_four_head_hydra = four_head_hydra.fit(x_train, y_train_std, x_test, y_test_std, batch_size=256)"
   ]
  },
  {
   "cell_type": "code",
   "execution_count": null,
   "metadata": {},
   "outputs": [],
   "source": [
    "T95(trained_four_head_hydra, four_head_hydra.get_all_representation(x_test), y_test_std)"
   ]
  },
  {
   "cell_type": "code",
   "execution_count": null,
   "metadata": {},
   "outputs": [],
   "source": []
  }
 ],
 "metadata": {
  "kernelspec": {
   "display_name": "Python 3",
   "language": "python",
   "name": "python3"
  },
  "language_info": {
   "codemirror_mode": {
    "name": "ipython",
    "version": 3
   },
   "file_extension": ".py",
   "mimetype": "text/x-python",
   "name": "python",
   "nbconvert_exporter": "python",
   "pygments_lexer": "ipython3",
   "version": "3.6.5"
  }
 },
 "nbformat": 4,
 "nbformat_minor": 2
}
