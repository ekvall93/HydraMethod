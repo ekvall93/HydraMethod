{
 "cells": [
  {
   "cell_type": "code",
   "execution_count": 10,
   "metadata": {},
   "outputs": [],
   "source": [
    "from utils import split_data\n",
    "import numpy as np\n",
    "\n",
    "PATH = \"./data/\"\n",
    "splitter = split_data(PATH + \"raw.csv\", PATH, test_size=0.1,\n",
    "                          train_size=0.2)\n",
    "x_train, y_train, x_test, y_test = splitter.split()"
   ]
  },
  {
   "cell_type": "code",
   "execution_count": 11,
   "metadata": {},
   "outputs": [],
   "source": [
    "from utils import translate\n",
    "\n",
    "translater = translate()\n",
    "x_train = translater.translate(x_train)\n",
    "x_test = translater.translate(x_test)"
   ]
  },
  {
   "cell_type": "code",
   "execution_count": 12,
   "metadata": {},
   "outputs": [],
   "source": [
    "from utils import standardize\n",
    "\n",
    "y_train_std, y_test_std = standardize(y_train, y_test)"
   ]
  },
  {
   "cell_type": "code",
   "execution_count": 13,
   "metadata": {},
   "outputs": [],
   "source": [
    "from modelArchitecture.ResnetRnnDense import ResnetRnnDense"
   ]
  },
  {
   "cell_type": "code",
   "execution_count": 14,
   "metadata": {},
   "outputs": [],
   "source": [
    "from HydraMethod import HydraMethod"
   ]
  },
  {
   "cell_type": "code",
   "execution_count": 15,
   "metadata": {},
   "outputs": [],
   "source": [
    "from utils import LRFinder"
   ]
  },
  {
   "cell_type": "code",
   "execution_count": 16,
   "metadata": {},
   "outputs": [],
   "source": [
    "from utils import result\n",
    "def T95(model, x, y):\n",
    "    predict_train = model.predict(x)\n",
    "    res_train = result(y, predict_train)\n",
    "    print(np.round(res_train.t95()[0], 4))"
   ]
  },
  {
   "cell_type": "code",
   "execution_count": 17,
   "metadata": {},
   "outputs": [],
   "source": [
    "from keras.losses import mean_squared_error\n",
    "#one_head_hydra = HydraMethod(ResnetRnnDense(), 1);one_head_hydra.compile(loss=mean_squared_error)\n",
    "one_head_hydra = HydraMethod(ResnetRnnDense(virtual_batch_size=64), 1);one_head_hydra.compile()"
   ]
  },
  {
   "cell_type": "code",
   "execution_count": 18,
   "metadata": {},
   "outputs": [
    {
     "name": "stderr",
     "output_type": "stream",
     "text": [
      "/home/paperspace/anaconda3/lib/python3.6/site-packages/tensorflow/python/ops/gradients_impl.py:100: UserWarning: Converting sparse IndexedSlices to a dense Tensor of unknown shape. This may consume a large amount of memory.\n",
      "  \"Converting sparse IndexedSlices to a dense Tensor of unknown shape. \"\n"
     ]
    },
    {
     "name": "stdout",
     "output_type": "stream",
     "text": [
      "Train on 219252 samples, validate on 114494 samples\n",
      "Epoch 1/10\n",
      "219252/219252 [==============================] - 39s 178us/step - loss: 0.2673 - val_loss: 0.2109\n",
      "Epoch 2/10\n",
      "219252/219252 [==============================] - 33s 150us/step - loss: 0.1901 - val_loss: 0.2006\n",
      "Epoch 3/10\n",
      "219252/219252 [==============================] - 33s 151us/step - loss: 0.1769 - val_loss: 0.1684\n",
      "Epoch 4/10\n",
      "219252/219252 [==============================] - 33s 150us/step - loss: 0.1640 - val_loss: 0.1248\n",
      "Epoch 5/10\n",
      "219252/219252 [==============================] - 33s 150us/step - loss: 0.1536 - val_loss: 0.1309\n",
      "Epoch 6/10\n",
      "219252/219252 [==============================] - 33s 150us/step - loss: 0.1431 - val_loss: 0.1143\n",
      "Epoch 7/10\n",
      "219252/219252 [==============================] - 33s 151us/step - loss: 0.1323 - val_loss: 0.1150\n",
      "Epoch 8/10\n",
      "219252/219252 [==============================] - 33s 151us/step - loss: 0.1276 - val_loss: 0.1082\n",
      "Epoch 9/10\n",
      "219252/219252 [==============================] - 33s 150us/step - loss: 0.1157 - val_loss: 0.1419\n",
      "Epoch 10/10\n",
      "219252/219252 [==============================] - 33s 151us/step - loss: 0.1124 - val_loss: 0.1434\n"
     ]
    }
   ],
   "source": [
    "one_head_hydra.compile(learning_rate=5e-4)\n",
    "trained_one_head_hydra = one_head_hydra.fit(x_train, y_train_std, x_test, y_test_std, batch_size=256, epochs=10)"
   ]
  },
  {
   "cell_type": "code",
   "execution_count": null,
   "metadata": {},
   "outputs": [],
   "source": [
    "T95(trained_one_head_hydra, one_head_hydra.get_all_representation(x_test), y_test_std)"
   ]
  },
  {
   "cell_type": "code",
   "execution_count": 22,
   "metadata": {},
   "outputs": [],
   "source": [
    "#two_head_hydra = HydraMethod(ResnetRnnDense(), 2);two_head_hydra.compile(loss=mean_squared_error)\n",
    "two_head_hydra = HydraMethod(ResnetRnnDense(virtual_batch_size=64), 2);two_head_hydra.compile()"
   ]
  },
  {
   "cell_type": "code",
   "execution_count": null,
   "metadata": {},
   "outputs": [
    {
     "name": "stderr",
     "output_type": "stream",
     "text": [
      "/home/paperspace/anaconda3/lib/python3.6/site-packages/tensorflow/python/ops/gradients_impl.py:100: UserWarning: Converting sparse IndexedSlices to a dense Tensor of unknown shape. This may consume a large amount of memory.\n",
      "  \"Converting sparse IndexedSlices to a dense Tensor of unknown shape. \"\n"
     ]
    },
    {
     "name": "stdout",
     "output_type": "stream",
     "text": [
      "Train on 219252 samples, validate on 114494 samples\n",
      "Epoch 1/10\n",
      "219252/219252 [==============================] - 85s 388us/step - loss: 0.2608 - val_loss: 0.2059\n",
      "Epoch 2/10\n",
      " 40704/219252 [====>.........................] - ETA: 52s - loss: 0.1856"
     ]
    }
   ],
   "source": [
    "two_head_hydra.compile(learning_rate=5e-4)\n",
    "trained_two_head_hydra = two_head_hydra.fit(x_train, y_train_std, x_test, y_test_std, batch_size=256, epochs=10)"
   ]
  },
  {
   "cell_type": "code",
   "execution_count": null,
   "metadata": {},
   "outputs": [],
   "source": [
    "T95(trained_two_head_hydra, two_head_hydra.get_all_representation(x_test), y_test_std)"
   ]
  },
  {
   "cell_type": "code",
   "execution_count": null,
   "metadata": {},
   "outputs": [],
   "source": [
    "#three_head_hydra = HydraMethod(ResnetRnnDense(), 3);three_head_hydra.compile(loss=mean_squared_error)\n",
    "three_head_hydra = HydraMethod(ResnetRnnDense(ResnetDrop=0.3,DenseDrop=0.2), 3);three_head_hydra.compile()"
   ]
  },
  {
   "cell_type": "code",
   "execution_count": null,
   "metadata": {},
   "outputs": [],
   "source": [
    "three_head_hydra.compile(learning_rate=5e-4)\n",
    "trained_three_head_hydra = three_head_hydra.fit(x_train, y_train_std, x_test, y_test_std, batch_size=256, epochs=10)"
   ]
  },
  {
   "cell_type": "code",
   "execution_count": null,
   "metadata": {},
   "outputs": [],
   "source": [
    "T95(trained_three_head_hydra, three_head_hydra.get_all_representation(x_test), y_test_std)"
   ]
  },
  {
   "cell_type": "code",
   "execution_count": 19,
   "metadata": {},
   "outputs": [],
   "source": [
    "#four_head_hydra = HydraMethod(ResnetRnnDense(), 4);four_head_hydra.compile(loss=mean_squared_error)\n",
    "four_head_hydra = HydraMethod(ResnetRnnDense(virtual_batch_size=64), 4);four_head_hydra.compile()"
   ]
  },
  {
   "cell_type": "code",
   "execution_count": 20,
   "metadata": {},
   "outputs": [
    {
     "name": "stderr",
     "output_type": "stream",
     "text": [
      "/home/paperspace/anaconda3/lib/python3.6/site-packages/tensorflow/python/ops/gradients_impl.py:100: UserWarning: Converting sparse IndexedSlices to a dense Tensor of unknown shape. This may consume a large amount of memory.\n",
      "  \"Converting sparse IndexedSlices to a dense Tensor of unknown shape. \"\n"
     ]
    },
    {
     "name": "stdout",
     "output_type": "stream",
     "text": [
      "Train on 219252 samples, validate on 114494 samples\n",
      "Epoch 1/10\n",
      "219252/219252 [==============================] - 164s 747us/step - loss: 0.2511 - val_loss: 0.2946\n",
      "Epoch 2/10\n",
      "219252/219252 [==============================] - 136s 620us/step - loss: 0.1733 - val_loss: 0.1377\n",
      "Epoch 3/10\n",
      "219252/219252 [==============================] - 136s 619us/step - loss: 0.1471 - val_loss: 0.1567\n",
      "Epoch 4/10\n",
      "219252/219252 [==============================] - 135s 618us/step - loss: 0.1396 - val_loss: 0.1264\n",
      "Epoch 5/10\n",
      "219252/219252 [==============================] - 136s 619us/step - loss: 0.1200 - val_loss: 0.1364\n",
      "Epoch 6/10\n",
      "219252/219252 [==============================] - 135s 617us/step - loss: 0.1116 - val_loss: 0.0895\n",
      "Epoch 7/10\n",
      "219252/219252 [==============================] - 135s 615us/step - loss: 0.1005 - val_loss: 0.0956\n",
      "Epoch 8/10\n",
      "219252/219252 [==============================] - 135s 617us/step - loss: 0.0968 - val_loss: 0.1282\n",
      "Epoch 9/10\n",
      "219252/219252 [==============================] - 135s 616us/step - loss: 0.0942 - val_loss: 0.0942\n",
      "Epoch 10/10\n",
      "219252/219252 [==============================] - 137s 624us/step - loss: 0.0887 - val_loss: 0.1055\n"
     ]
    }
   ],
   "source": [
    "four_head_hydra.compile(learning_rate=5e-4)\n",
    "trained_four_head_hydra = four_head_hydra.fit(x_train, y_train_std, x_test, y_test_std, batch_size=256, epochs=10)"
   ]
  },
  {
   "cell_type": "code",
   "execution_count": 21,
   "metadata": {},
   "outputs": [
    {
     "name": "stdout",
     "output_type": "stream",
     "text": [
      "12.4043\n"
     ]
    }
   ],
   "source": [
    "T95(trained_four_head_hydra, four_head_hydra.get_all_representation(x_test), y_test_std)"
   ]
  },
  {
   "cell_type": "code",
   "execution_count": null,
   "metadata": {},
   "outputs": [],
   "source": [
    "import matplotlib\n",
    "import numpy as np\n",
    "import matplotlib.pyplot as plt\n",
    "%matplotlib inline  "
   ]
  },
  {
   "cell_type": "code",
   "execution_count": null,
   "metadata": {},
   "outputs": [],
   "source": [
    "#four_model = four_head_hydra.get_model()\n",
    "four_model_loss = trained_four_head_hydra.history.history[\"loss\"]\n",
    "four_model_val_loss = trained_four_head_hydra.history.history[\"val_loss\"]\n",
    "\n",
    "#three_model = trained_three_head_hydra.get_model()\n",
    "three_model_loss = trained_three_head_hydra.history.history[\"loss\"]\n",
    "three_model_val_loss = trained_three_head_hydra.history.history[\"val_loss\"]\n",
    "\n",
    "#two_model = two_head_hydra.get_model()\n",
    "two_model_loss = trained_two_head_hydra.history.history[\"loss\"]\n",
    "two_model_val_loss = trained_two_head_hydra.history.history[\"val_loss\"]\n",
    "\n",
    "#one_model = one_head_hydra.get_model()\n",
    "one_model_loss = trained_one_head_hydra.history.history[\"loss\"]\n",
    "one_model_val_loss = trained_one_head_hydra.history.history[\"val_loss\"]"
   ]
  },
  {
   "cell_type": "code",
   "execution_count": null,
   "metadata": {},
   "outputs": [],
   "source": [
    "plt.plot(one_model_loss, color=\"red\")\n",
    "plt.plot(two_model_loss, color=\"blue\")\n",
    "plt.plot(three_model_loss, color=\"green\")\n",
    "plt.plot(four_model_loss, color=\"black\")\n",
    "plt.title('A simple chirp')\n",
    "plt.show()"
   ]
  },
  {
   "cell_type": "code",
   "execution_count": null,
   "metadata": {},
   "outputs": [],
   "source": [
    "plt.plot(one_model_val_loss, color=\"red\")\n",
    "plt.plot(two_model_val_loss, color=\"blue\")\n",
    "plt.plot(three_model_val_loss, color=\"green\")\n",
    "plt.plot(four_model_val_loss, color=\"black\")\n",
    "plt.title('A simple chirp')\n",
    "plt.show()"
   ]
  },
  {
   "cell_type": "code",
   "execution_count": null,
   "metadata": {},
   "outputs": [],
   "source": []
  }
 ],
 "metadata": {
  "kernelspec": {
   "display_name": "Python 3",
   "language": "python",
   "name": "python3"
  },
  "language_info": {
   "codemirror_mode": {
    "name": "ipython",
    "version": 3
   },
   "file_extension": ".py",
   "mimetype": "text/x-python",
   "name": "python",
   "nbconvert_exporter": "python",
   "pygments_lexer": "ipython3",
   "version": "3.6.5"
  }
 },
 "nbformat": 4,
 "nbformat_minor": 2
}
