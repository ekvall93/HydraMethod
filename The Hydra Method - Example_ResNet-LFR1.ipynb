{
 "cells": [
  {
   "cell_type": "code",
   "execution_count": 1,
   "metadata": {},
   "outputs": [
    {
     "name": "stderr",
     "output_type": "stream",
     "text": [
      "/home/markus/anaconda3/lib/python3.6/site-packages/h5py/__init__.py:36: FutureWarning: Conversion of the second argument of issubdtype from `float` to `np.floating` is deprecated. In future, it will be treated as `np.float64 == np.dtype(float).type`.\n",
      "  from ._conv import register_converters as _register_converters\n",
      "Using TensorFlow backend.\n"
     ]
    }
   ],
   "source": [
    "from utils import split_data\n",
    "import numpy as np\n",
    "\n",
    "PATH = \"./data/\"\n",
    "splitter = split_data(PATH + \"raw.csv\", PATH, test_size=0.1,\n",
    "                          train_size=0.9)\n",
    "x_train, y_train, x_test, y_test = splitter.split()"
   ]
  },
  {
   "cell_type": "code",
   "execution_count": 2,
   "metadata": {},
   "outputs": [],
   "source": [
    "from utils import translate\n",
    "\n",
    "translater = translate()\n",
    "x_train = translater.translate(x_train)\n",
    "x_test = translater.translate(x_test)"
   ]
  },
  {
   "cell_type": "code",
   "execution_count": 3,
   "metadata": {},
   "outputs": [],
   "source": [
    "from utils import standardize\n",
    "\n",
    "y_train_std, y_test_std = standardize(y_train, y_test)"
   ]
  },
  {
   "cell_type": "code",
   "execution_count": 4,
   "metadata": {},
   "outputs": [],
   "source": [
    "from modelArchitecture.ResnetRnnDense import ResnetRnnDense"
   ]
  },
  {
   "cell_type": "code",
   "execution_count": 5,
   "metadata": {},
   "outputs": [],
   "source": [
    "from HydraMethod import HydraMethod"
   ]
  },
  {
   "cell_type": "code",
   "execution_count": 6,
   "metadata": {},
   "outputs": [],
   "source": [
    "from utils import LRFinder"
   ]
  },
  {
   "cell_type": "code",
   "execution_count": 7,
   "metadata": {},
   "outputs": [],
   "source": [
    "from utils import result\n",
    "def T95(model, x, y):\n",
    "    predict_train = model.predict(x)\n",
    "    res_train = result(y, predict_train)\n",
    "    print(np.round(res_train.t95()[0], 4))"
   ]
  },
  {
   "cell_type": "code",
   "execution_count": 14,
   "metadata": {},
   "outputs": [],
   "source": [
    "from keras.losses import mean_squared_error\n",
    "one_head_hydra = HydraMethod(ResnetRnnDense(features=32, ResnetDrop=0.2, RnnDrop=0.5), 1)"
   ]
  },
  {
   "cell_type": "code",
   "execution_count": 15,
   "metadata": {},
   "outputs": [
    {
     "name": "stdout",
     "output_type": "stream",
     "text": [
      "Train on 968793 samples, validate on 110176 samples\n",
      "Epoch 1/10\n",
      "968793/968793 [==============================] - 65s 67us/step - loss: 0.1550 - val_loss: 0.1001\n",
      "Epoch 2/10\n",
      "968793/968793 [==============================] - 62s 64us/step - loss: 0.1230 - val_loss: 0.0982\n",
      "Epoch 3/10\n",
      "968793/968793 [==============================] - 62s 64us/step - loss: 0.1176 - val_loss: 0.1058\n",
      "Epoch 4/10\n",
      "968793/968793 [==============================] - 62s 64us/step - loss: 0.1125 - val_loss: 0.1102\n",
      "Epoch 5/10\n",
      "968793/968793 [==============================] - 62s 64us/step - loss: 0.1092 - val_loss: 0.0858\n",
      "Epoch 6/10\n",
      "968793/968793 [==============================] - 62s 64us/step - loss: 0.1069 - val_loss: 0.0754\n",
      "Epoch 7/10\n",
      "968793/968793 [==============================] - 62s 64us/step - loss: 0.1047 - val_loss: 0.0868\n",
      "Epoch 8/10\n",
      "968793/968793 [==============================] - 62s 64us/step - loss: 0.1010 - val_loss: 0.0706\n",
      "Epoch 9/10\n",
      "968793/968793 [==============================] - 62s 64us/step - loss: 0.0987 - val_loss: 0.0785\n",
      "Epoch 10/10\n",
      "968793/968793 [==============================] - 62s 64us/step - loss: 0.0953 - val_loss: 0.0845\n"
     ]
    }
   ],
   "source": [
    "one_head_hydra.compile(learning_rate=1e-3)\n",
    "trained_one_head_hydra = one_head_hydra.fit(x_train, y_train_std, x_test, y_test_std, batch_size=256, epochs=10)"
   ]
  },
  {
   "cell_type": "code",
   "execution_count": 16,
   "metadata": {},
   "outputs": [
    {
     "name": "stdout",
     "output_type": "stream",
     "text": [
      "9.2012\n"
     ]
    }
   ],
   "source": [
    "T95(trained_one_head_hydra, one_head_hydra.get_all_representation(x_test), y_test_std)"
   ]
  },
  {
   "cell_type": "code",
   "execution_count": 17,
   "metadata": {},
   "outputs": [],
   "source": [
    "#two_head_hydra = HydraMethod(ResnetRnnDense(), 2);two_head_hydra.compile(loss=mean_squared_error)\n",
    "two_head_hydra = HydraMethod(ResnetRnnDense(features=32, ResnetDrop=0.2, RnnDrop=0.5), 2)"
   ]
  },
  {
   "cell_type": "code",
   "execution_count": 18,
   "metadata": {},
   "outputs": [
    {
     "name": "stdout",
     "output_type": "stream",
     "text": [
      "Train on 968793 samples, validate on 110176 samples\n",
      "Epoch 1/10\n",
      "968793/968793 [==============================] - 126s 130us/step - loss: 0.1468 - val_loss: 0.0884\n",
      "Epoch 2/10\n",
      "968793/968793 [==============================] - 119s 122us/step - loss: 0.1150 - val_loss: 0.1384\n",
      "Epoch 3/10\n",
      "968793/968793 [==============================] - 119s 122us/step - loss: 0.1066 - val_loss: 0.1077\n",
      "Epoch 4/10\n",
      "968793/968793 [==============================] - 119s 122us/step - loss: 0.1005 - val_loss: 0.0735\n",
      "Epoch 5/10\n",
      "968793/968793 [==============================] - 119s 122us/step - loss: 0.0966 - val_loss: 0.0818\n",
      "Epoch 6/10\n",
      "968793/968793 [==============================] - 119s 123us/step - loss: 0.0887 - val_loss: 0.0711\n",
      "Epoch 7/10\n",
      "968793/968793 [==============================] - 119s 123us/step - loss: 0.0814 - val_loss: 0.0814\n",
      "Epoch 8/10\n",
      "968793/968793 [==============================] - 119s 123us/step - loss: 0.0774 - val_loss: 0.0926\n",
      "Epoch 9/10\n",
      "968793/968793 [==============================] - 119s 123us/step - loss: 0.0741 - val_loss: 0.0619\n",
      "Epoch 10/10\n",
      "968793/968793 [==============================] - 119s 123us/step - loss: 0.0718 - val_loss: 0.0625\n"
     ]
    }
   ],
   "source": [
    "two_head_hydra.compile(learning_rate=1e-3)\n",
    "trained_two_head_hydra = two_head_hydra.fit(x_train, y_train_std, x_test, y_test_std, batch_size=256, epochs=10)"
   ]
  },
  {
   "cell_type": "code",
   "execution_count": 19,
   "metadata": {},
   "outputs": [
    {
     "name": "stdout",
     "output_type": "stream",
     "text": [
      "6.2453\n"
     ]
    }
   ],
   "source": [
    "T95(trained_two_head_hydra, two_head_hydra.get_all_representation(x_test), y_test_std)"
   ]
  },
  {
   "cell_type": "code",
   "execution_count": 20,
   "metadata": {},
   "outputs": [],
   "source": [
    "#three_head_hydra = HydraMethod(ResnetRnnDense(), 3);three_head_hydra.compile(loss=mean_squared_error)\n",
    "three_head_hydra = HydraMethod(ResnetRnnDense(features=32, ResnetDrop=0.2, RnnDrop=0.5), 3)"
   ]
  },
  {
   "cell_type": "code",
   "execution_count": 21,
   "metadata": {},
   "outputs": [
    {
     "name": "stdout",
     "output_type": "stream",
     "text": [
      "Train on 968793 samples, validate on 110176 samples\n",
      "Epoch 1/10\n",
      "968793/968793 [==============================] - 187s 193us/step - loss: 0.1427 - val_loss: 0.1544\n",
      "Epoch 2/10\n",
      "968793/968793 [==============================] - 176s 181us/step - loss: 0.1127 - val_loss: 0.1036\n",
      "Epoch 3/10\n",
      "968793/968793 [==============================] - 176s 181us/step - loss: 0.1036 - val_loss: 0.0941\n",
      "Epoch 4/10\n",
      "968793/968793 [==============================] - 176s 181us/step - loss: 0.0980 - val_loss: 0.0740\n",
      "Epoch 5/10\n",
      "968793/968793 [==============================] - 176s 182us/step - loss: 0.0902 - val_loss: 0.0657\n",
      "Epoch 6/10\n",
      "968793/968793 [==============================] - 176s 181us/step - loss: 0.0816 - val_loss: 0.0658\n",
      "Epoch 7/10\n",
      "968793/968793 [==============================] - 176s 182us/step - loss: 0.0770 - val_loss: 0.0616\n",
      "Epoch 8/10\n",
      "968793/968793 [==============================] - 176s 182us/step - loss: 0.0732 - val_loss: 0.0644\n",
      "Epoch 9/10\n",
      "968793/968793 [==============================] - 176s 182us/step - loss: 0.0703 - val_loss: 0.0645\n",
      "Epoch 10/10\n",
      "968793/968793 [==============================] - 176s 182us/step - loss: 0.0679 - val_loss: 0.0598\n"
     ]
    }
   ],
   "source": [
    "three_head_hydra.compile(learning_rate=1e-3)\n",
    "trained_three_head_hydra = three_head_hydra.fit(x_train, y_train_std, x_test, y_test_std, batch_size=256, epochs=10)"
   ]
  },
  {
   "cell_type": "code",
   "execution_count": 22,
   "metadata": {},
   "outputs": [
    {
     "name": "stdout",
     "output_type": "stream",
     "text": [
      "6.3752\n"
     ]
    }
   ],
   "source": [
    "T95(trained_three_head_hydra, three_head_hydra.get_all_representation(x_test), y_test_std)"
   ]
  },
  {
   "cell_type": "code",
   "execution_count": 23,
   "metadata": {},
   "outputs": [],
   "source": [
    "#four_head_hydra = HydraMethod(ResnetRnnDense(), 4);four_head_hydra.compile(loss=mean_squared_error)\n",
    "four_head_hydra = HydraMethod(ResnetRnnDense(features=32, ResnetDrop=0.2, RnnDrop=0.5), 4)"
   ]
  },
  {
   "cell_type": "code",
   "execution_count": 24,
   "metadata": {},
   "outputs": [
    {
     "name": "stdout",
     "output_type": "stream",
     "text": [
      "Train on 968793 samples, validate on 110176 samples\n",
      "Epoch 1/10\n",
      "968793/968793 [==============================] - 252s 260us/step - loss: 0.1374 - val_loss: 0.1126\n",
      "Epoch 2/10\n",
      "968793/968793 [==============================] - 237s 244us/step - loss: 0.1020 - val_loss: 0.0848\n",
      "Epoch 3/10\n",
      "968793/968793 [==============================] - 236s 244us/step - loss: 0.0943 - val_loss: 0.0771\n",
      "Epoch 4/10\n",
      "968793/968793 [==============================] - 236s 244us/step - loss: 0.0883 - val_loss: 0.0873\n",
      "Epoch 5/10\n",
      "968793/968793 [==============================] - 236s 244us/step - loss: 0.0788 - val_loss: 0.0604\n",
      "Epoch 6/10\n",
      "968793/968793 [==============================] - 237s 244us/step - loss: 0.0731 - val_loss: 0.0672\n",
      "Epoch 7/10\n",
      "968793/968793 [==============================] - 236s 244us/step - loss: 0.0688 - val_loss: 0.0672\n",
      "Epoch 8/10\n",
      "968793/968793 [==============================] - 236s 244us/step - loss: 0.0666 - val_loss: 0.0596\n",
      "Epoch 9/10\n",
      "968793/968793 [==============================] - 236s 244us/step - loss: 0.0637 - val_loss: 0.0658\n",
      "Epoch 10/10\n",
      "968793/968793 [==============================] - 236s 244us/step - loss: 0.0622 - val_loss: 0.0570\n"
     ]
    }
   ],
   "source": [
    "four_head_hydra.compile(learning_rate=5e-4)\n",
    "trained_four_head_hydra = four_head_hydra.fit(x_train, y_train_std, x_test, y_test_std, batch_size=256, epochs=10)"
   ]
  },
  {
   "cell_type": "code",
   "execution_count": 25,
   "metadata": {},
   "outputs": [
    {
     "name": "stdout",
     "output_type": "stream",
     "text": [
      "5.8559\n"
     ]
    }
   ],
   "source": [
    "T95(trained_four_head_hydra, four_head_hydra.get_all_representation(x_test), y_test_std)"
   ]
  },
  {
   "cell_type": "code",
   "execution_count": 26,
   "metadata": {},
   "outputs": [],
   "source": [
    "import matplotlib\n",
    "import numpy as np\n",
    "import matplotlib.pyplot as plt\n",
    "%matplotlib inline  "
   ]
  },
  {
   "cell_type": "code",
   "execution_count": 27,
   "metadata": {},
   "outputs": [],
   "source": [
    "#four_model = four_head_hydra.get_model()\n",
    "four_model_loss = trained_four_head_hydra.history.history[\"loss\"]\n",
    "four_model_val_loss = trained_four_head_hydra.history.history[\"val_loss\"]\n",
    "\n",
    "#three_model = trained_three_head_hydra.get_model()\n",
    "three_model_loss = trained_three_head_hydra.history.history[\"loss\"]\n",
    "three_model_val_loss = trained_three_head_hydra.history.history[\"val_loss\"]\n",
    "\n",
    "#two_model = two_head_hydra.get_model()\n",
    "two_model_loss = trained_two_head_hydra.history.history[\"loss\"]\n",
    "two_model_val_loss = trained_two_head_hydra.history.history[\"val_loss\"]\n",
    "\n",
    "#one_model = one_head_hydra.get_model()\n",
    "one_model_loss = trained_one_head_hydra.history.history[\"loss\"]\n",
    "one_model_val_loss = trained_one_head_hydra.history.history[\"val_loss\"]"
   ]
  },
  {
   "cell_type": "code",
   "execution_count": 28,
   "metadata": {},
   "outputs": [
    {
     "data": {
      "image/png": "[encoded data removed]",
      "text/plain": [
       "<Figure size 432x288 with 1 Axes>"
      ]
     },
     "metadata": {},
     "output_type": "display_data"
    }
   ],
   "source": [
    "plt.plot(one_model_loss, color=\"red\")\n",
    "plt.plot(two_model_loss, color=\"blue\")\n",
    "plt.plot(three_model_loss, color=\"green\")\n",
    "plt.plot(four_model_loss, color=\"black\")\n",
    "plt.title('A simple chirp')\n",
    "plt.show()"
   ]
  },
  {
   "cell_type": "code",
   "execution_count": 29,
   "metadata": {},
   "outputs": [
    {
     "data": {
      "image/png": "[encoded data removed]",
      "text/plain": [
       "<Figure size 432x288 with 1 Axes>"
      ]
     },
     "metadata": {},
     "output_type": "display_data"
    }
   ],
   "source": [
    "plt.plot(one_model_val_loss, color=\"red\")\n",
    "plt.plot(two_model_val_loss, color=\"blue\")\n",
    "plt.plot(three_model_val_loss, color=\"green\")\n",
    "plt.plot(four_model_val_loss, color=\"black\")\n",
    "plt.title('A simple chirp')\n",
    "plt.show()"
   ]
  },
  {
   "cell_type": "code",
   "execution_count": null,
   "metadata": {},
   "outputs": [],
   "source": []
  }
 ],
 "metadata": {
  "kernelspec": {
   "display_name": "Python 3",
   "language": "python",
   "name": "python3"
  },
  "language_info": {
   "codemirror_mode": {
    "name": "ipython",
    "version": 3
   },
   "file_extension": ".py",
   "mimetype": "text/x-python",
   "name": "python",
   "nbconvert_exporter": "python",
   "pygments_lexer": "ipython3",
   "version": "3.6.5"
  }
 },
 "nbformat": 4,
 "nbformat_minor": 2
}
