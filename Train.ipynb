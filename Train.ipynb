{
 "cells": [
  {
   "cell_type": "code",
   "execution_count": 1,
   "metadata": {},
   "outputs": [
    {
     "name": "stderr",
     "output_type": "stream",
     "text": [
      "/home/markus/anaconda3/lib/python3.6/site-packages/h5py/__init__.py:36: FutureWarning: Conversion of the second argument of issubdtype from `float` to `np.floating` is deprecated. In future, it will be treated as `np.float64 == np.dtype(float).type`.\n",
      "  from ._conv import register_converters as _register_converters\n",
      "Using TensorFlow backend.\n"
     ]
    }
   ],
   "source": [
    "from modelArchitecture.ResnetRnnDense import ResnetRnnDense\n",
    "from modelArchitecture.VirtualBatchNormalization import VirtualBatchNormalization\n",
    "from modelArchitecture.Attention import Attention\n",
    "from keras.models import model_from_yaml\n",
    "from utils import split_data, translate, save_model, standardize, result\n",
    "from HydraMethod import HydraMethod\n",
    "import keras\n",
    "from keras.callbacks import LearningRateScheduler\n",
    "from keras.optimizers import Adam\n",
    "from keras.losses import mean_squared_error\n",
    "import math\n",
    "import numpy as np\n",
    "from keras.backend import eval\n",
    "\n",
    "PATH = \"./data/\"\n",
    "splitter = split_data(PATH + \"raw.csv\", PATH, test_size=0.1, train_size=0.9)\n",
    "x_train, y_train, x_test, y_test = splitter.split()\n",
    "translater = translate()\n",
    "\n",
    "x_train = translater.translate(x_train)\n",
    "x_test = translater.translate(x_test)\n",
    "\n",
    "y_train_std, y_test_std = standardize(y_train, y_test)"
   ]
  },
  {
   "cell_type": "code",
   "execution_count": 2,
   "metadata": {},
   "outputs": [],
   "source": [
    "hydra = HydraMethod(ResnetRnnDense(),4)"
   ]
  },
  {
   "cell_type": "code",
   "execution_count": 3,
   "metadata": {},
   "outputs": [],
   "source": [
    "x_train, x_test = hydra.get_all_representation(x_train), hydra.get_all_representation(x_test)"
   ]
  },
  {
   "cell_type": "code",
   "execution_count": 4,
   "metadata": {},
   "outputs": [],
   "source": [
    "class LR():\n",
    "    def __init__(self, lr):\n",
    "        self.lr = lr\n",
    "\n",
    "    def step_decay(self, epoch):\n",
    "        initial_lrate = self.lr\n",
    "        drop = 0.4\n",
    "        epochs_drop = 10.0\n",
    "        lrate = initial_lrate * math.pow(drop,\n",
    "                                         math.floor((1+epoch)/epochs_drop))\n",
    "        print(lrate)\n",
    "        return lrate"
   ]
  },
  {
   "cell_type": "code",
   "execution_count": 5,
   "metadata": {},
   "outputs": [],
   "source": [
    "def freeze_it(model, block_nr):\n",
    "    counter = 0\n",
    "    for layer in model.layers:\n",
    "        if \"add\" in layer.name:\n",
    "            counter += 1\n",
    "        if counter >= 4 * block_nr:\n",
    "            layer.trainable = True\n",
    "        else:\n",
    "            layer.trainable = False\n",
    "    print(counter / 4)\n",
    "    return model"
   ]
  },
  {
   "cell_type": "code",
   "execution_count": 6,
   "metadata": {},
   "outputs": [],
   "source": [
    "def T95(model, x, y):\n",
    "    predict_train = model.predict(x)\n",
    "    res_train = result(y, predict_train)\n",
    "    print(np.round(res_train.t95()[0], 4))"
   ]
  },
  {
   "cell_type": "code",
   "execution_count": 7,
   "metadata": {},
   "outputs": [],
   "source": [
    "EarlyStopping = keras.callbacks.EarlyStopping(monitor='val_loss',\n",
    "                                              min_delta=0, patience=6,\n",
    "                                              verbose=1,\n",
    "                                              restore_best_weights=True)"
   ]
  },
  {
   "cell_type": "code",
   "execution_count": 8,
   "metadata": {},
   "outputs": [],
   "source": [
    "def training(model, X_train, y_train_std, X_test, y_test_std, lr, bz, k=None):\n",
    "    if k:\n",
    "        print(\"not none\")\n",
    "        model = freeze_it(model, k)\n",
    "\n",
    "    lr = LR(lr)\n",
    "    lrate = LearningRateScheduler(lr.step_decay)\n",
    "\n",
    "    model.compile(loss=mean_squared_error, optimizer=Adam(7e-5))\n",
    "    history = model.fit(X_train, y_train_std, validation_data=(X_test, y_test_std),\n",
    "              epochs=2, batch_size=bz, callbacks=[lrate, EarlyStopping])\n",
    "\n",
    "\n",
    "\n",
    "    T95(model,X_train,y_train_std)\n",
    "    T95(model,X_test,y_test_std)\n",
    "    return model\n"
   ]
  },
  {
   "cell_type": "code",
   "execution_count": 9,
   "metadata": {},
   "outputs": [
    {
     "name": "stdout",
     "output_type": "stream",
     "text": [
      "32\n",
      "32\n",
      "32\n",
      "32\n",
      "32\n",
      "32\n",
      "32\n",
      "32\n",
      "32\n",
      "32\n",
      "32\n",
      "32\n",
      "32\n",
      "32\n",
      "32\n",
      "32\n",
      "32\n",
      "32\n",
      "32\n",
      "32\n",
      "32\n",
      "32\n",
      "32\n",
      "32\n",
      "32\n",
      "32\n",
      "32\n",
      "32\n",
      "32\n",
      "32\n",
      "32\n",
      "32\n",
      "32\n",
      "32\n",
      "32\n",
      "32\n",
      "32\n",
      "32\n",
      "32\n",
      "32\n",
      "32\n",
      "32\n",
      "32\n",
      "32\n",
      "32\n",
      "32\n",
      "32\n",
      "32\n",
      "32\n",
      "32\n",
      "32\n",
      "32\n",
      "32\n",
      "32\n",
      "32\n",
      "32\n"
     ]
    }
   ],
   "source": [
    "from keras.models import model_from_json\n",
    "\n",
    "yaml_file = open('models/LRF_model.json', 'r')\n",
    "loaded_model_yaml = yaml_file.read()\n",
    "yaml_file.close()\n",
    "\n",
    "model = model_from_json(loaded_model_yaml,\n",
    "                        custom_objects={'VirtualBatchNormalization':VirtualBatchNormalization, 'Attention':Attention})\n",
    "\n",
    "model.load_weights('models/LRF_model.h5')"
   ]
  },
  {
   "cell_type": "code",
   "execution_count": 10,
   "metadata": {},
   "outputs": [
    {
     "name": "stderr",
     "output_type": "stream",
     "text": [
      "/home/markus/anaconda3/lib/python3.6/site-packages/tensorflow/python/ops/gradients_impl.py:100: UserWarning: Converting sparse IndexedSlices to a dense Tensor of unknown shape. This may consume a large amount of memory.\n",
      "  \"Converting sparse IndexedSlices to a dense Tensor of unknown shape. \"\n"
     ]
    },
    {
     "name": "stdout",
     "output_type": "stream",
     "text": [
      "Train on 968303 samples, validate on 110666 samples\n",
      "Epoch 1/2\n",
      "0.0005\n",
      "968303/968303 [==============================] - 292s 302us/step - loss: 0.0450 - val_loss: 0.0263\n",
      "Epoch 2/2\n",
      "0.0005\n",
      "968303/968303 [==============================] - 279s 288us/step - loss: 0.0280 - val_loss: 0.0380\n",
      "12.6842\n",
      "12.6838\n"
     ]
    }
   ],
   "source": [
    "lr = 5e-4\n",
    "model = training(model,x_train,y_train_std,x_test,y_test_std,lr,256)"
   ]
  },
  {
   "cell_type": "code",
   "execution_count": 11,
   "metadata": {},
   "outputs": [
    {
     "name": "stdout",
     "output_type": "stream",
     "text": [
      "not none\n",
      "13.0\n"
     ]
    },
    {
     "name": "stderr",
     "output_type": "stream",
     "text": [
      "/home/markus/anaconda3/lib/python3.6/site-packages/tensorflow/python/ops/gradients_impl.py:100: UserWarning: Converting sparse IndexedSlices to a dense Tensor of unknown shape. This may consume a large amount of memory.\n",
      "  \"Converting sparse IndexedSlices to a dense Tensor of unknown shape. \"\n"
     ]
    },
    {
     "name": "stdout",
     "output_type": "stream",
     "text": [
      "Train on 968303 samples, validate on 110666 samples\n",
      "Epoch 1/2\n",
      "0.0005\n",
      "968303/968303 [==============================] - 157s 162us/step - loss: 0.0206 - val_loss: 0.0188\n",
      "Epoch 2/2\n",
      "0.0005\n",
      "968303/968303 [==============================] - 147s 152us/step - loss: 0.0190 - val_loss: 0.0192\n",
      "7.0745\n",
      "7.6097\n"
     ]
    }
   ],
   "source": [
    "#lr = eval(model.optimizer.lr) * 0.6\n",
    "model = training(model,x_train,y_train_std,x_test,y_test_std,lr,512,6)"
   ]
  },
  {
   "cell_type": "code",
   "execution_count": null,
   "metadata": {},
   "outputs": [],
   "source": []
  }
 ],
 "metadata": {
  "kernelspec": {
   "display_name": "Python 3",
   "language": "python",
   "name": "python3"
  },
  "language_info": {
   "codemirror_mode": {
    "name": "ipython",
    "version": 3
   },
   "file_extension": ".py",
   "mimetype": "text/x-python",
   "name": "python",
   "nbconvert_exporter": "python",
   "pygments_lexer": "ipython3",
   "version": "3.6.5"
  }
 },
 "nbformat": 4,
 "nbformat_minor": 2
}
