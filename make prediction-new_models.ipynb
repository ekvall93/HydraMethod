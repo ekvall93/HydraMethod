{
 "cells": [
  {
   "cell_type": "code",
   "execution_count": 1,
   "metadata": {},
   "outputs": [
    {
     "name": "stderr",
     "output_type": "stream",
     "text": [
      "/home/markus/anaconda3/lib/python3.6/site-packages/h5py/__init__.py:36: FutureWarning: Conversion of the second argument of issubdtype from `float` to `np.floating` is deprecated. In future, it will be treated as `np.float64 == np.dtype(float).type`.\n",
      "  from ._conv import register_converters as _register_converters\n",
      "Using TensorFlow backend.\n"
     ]
    }
   ],
   "source": [
    "import argparse\n",
    "from typing import TextIO\n",
    "import os\n",
    "import csv\n",
    "from typing import List\n",
    "import numpy as np\n",
    "import glob\n",
    "import keras\n",
    "from sklearn.externals import joblib\n",
    "from keras import backend as K\n",
    "from keras import regularizers, constraints, initializers, activations\n",
    "from keras.engine.topology import Layer\n",
    "import tensorflow as tf\n",
    "\n",
    "import pandas as pd\n",
    "import numpy as n\n",
    "from numpy import genfromtxt"
   ]
  },
  {
   "cell_type": "code",
   "execution_count": 2,
   "metadata": {},
   "outputs": [
    {
     "name": "stdout",
     "output_type": "stream",
     "text": [
      "non_seen_irt.npy           non_seen_pep_datafram.csvirt_train\r\n",
      "non_seen_irt_1.npy         non_seen_pep_datafram.csvseq_train\r\n",
      "non_seen_irt_2.npy         non_seen_pep_datafram_2.csv\r\n",
      "non_seen_pep.csv           non_seen_pep_datafram_2.csvirt_train\r\n",
      "non_seen_pep.npy           non_seen_pep_datafram_2.csvseq_train\r\n",
      "non_seen_pep_1.npy         non_seen_pep_prosit.csv\r\n",
      "non_seen_pep_2.npy         non_seen_pep_prosit_1.csv\r\n",
      "non_seen_pep_datafram.csv  non_seen_pep_prosit_2.csv\r\n"
     ]
    }
   ],
   "source": [
    "ls ../data/non_seen_pep/"
   ]
  },
  {
   "cell_type": "code",
   "execution_count": 3,
   "metadata": {},
   "outputs": [],
   "source": [
    "pred_prosit = genfromtxt(\"../Prosit/predict/new_data_tensor_irt_predicted.csv\")\n",
    "y_test_prosit = np.load(\"../data/non_seen_pep/non_seen_irt.npy\")\n"
   ]
  },
  {
   "cell_type": "code",
   "execution_count": 4,
   "metadata": {},
   "outputs": [],
   "source": [
    "def t95(y_emp, y_pred,x):\n",
    "    if x ==0:\n",
    "        n = int(np.floor(len(y_emp)*x))\n",
    "    else:\n",
    "        n = int(np.floor(len(y_emp)*x)) -1 \n",
    "    dif = abs(y_emp.flatten() - y_pred.flatten())\n",
    "    sort_dif = np.sort(dif.flatten())\n",
    "    t_p = 2 * sort_dif[n] /  (max(y_emp) - min(y_emp)) * 100\n",
    "    return t_p"
   ]
  },
  {
   "cell_type": "code",
   "execution_count": 5,
   "metadata": {},
   "outputs": [
    {
     "data": {
      "text/plain": [
       "array([31.86891256])"
      ]
     },
     "execution_count": 5,
     "metadata": {},
     "output_type": "execute_result"
    }
   ],
   "source": [
    "t95(y_test_prosit, pred_prosit,0.95)"
   ]
  },
  {
   "cell_type": "code",
   "execution_count": 16,
   "metadata": {},
   "outputs": [
    {
     "data": {
      "text/plain": [
       "15678"
      ]
     },
     "execution_count": 16,
     "metadata": {},
     "output_type": "execute_result"
    }
   ],
   "source": [
    "len(y_test_prosit)"
   ]
  },
  {
   "cell_type": "code",
   "execution_count": 6,
   "metadata": {},
   "outputs": [],
   "source": [
    "#steps = np.linspace(0,1,100)"
   ]
  },
  {
   "cell_type": "code",
   "execution_count": 7,
   "metadata": {},
   "outputs": [],
   "source": [
    "#t_prosit = [t95(y_test_prosit, pred_prosit,n) for n in steps]"
   ]
  },
  {
   "cell_type": "code",
   "execution_count": 8,
   "metadata": {},
   "outputs": [],
   "source": [
    "%matplotlib inline\n",
    "\n",
    "import matplotlib\n",
    "import numpy as np\n",
    "import matplotlib.pyplot as plt"
   ]
  },
  {
   "cell_type": "code",
   "execution_count": 9,
   "metadata": {},
   "outputs": [
    {
     "name": "stdout",
     "output_type": "stream",
     "text": [
      "LRF_model.h5    all_data.h5    \u001b[0m\u001b[01;34mbest_model\u001b[0m/   hydra_new.yaml  hydra_new_C.yaml\r\n",
      "LRF_model.json  all_data.yaml  hydra_new.h5  hydra_new_C.h5\r\n"
     ]
    }
   ],
   "source": [
    "ls ../HydraMethod/models/"
   ]
  },
  {
   "cell_type": "code",
   "execution_count": 10,
   "metadata": {},
   "outputs": [],
   "source": [
    "from keras.models import model_from_yaml\n",
    "from modelArchitecture.Attention import Attention\n",
    "yaml_file = open('../HydraMethod/models/all_data.yaml', 'r')\n",
    "loaded_model_yaml = yaml_file.read()\n",
    "yaml_file.close()\n",
    "\n",
    "model = model_from_yaml(loaded_model_yaml,\n",
    "                            custom_objects={\n",
    "                                            'Attention': Attention})\n",
    "model.load_weights('../HydraMethod/models/all_data.h5')"
   ]
  },
  {
   "cell_type": "code",
   "execution_count": 11,
   "metadata": {},
   "outputs": [
    {
     "name": "stdout",
     "output_type": "stream",
     "text": [
      "15678\n"
     ]
    }
   ],
   "source": [
    "from utils import split_data, translate, save_model, standardize, result\n",
    "PATH = \"../data/non_seen_pep/non_seen_pep_datafram.csv\"\n",
    "splitter = split_data(PATH, PATH, train_size=0.99)\n",
    "x_train, y_train = splitter.split()"
   ]
  },
  {
   "cell_type": "code",
   "execution_count": 12,
   "metadata": {},
   "outputs": [],
   "source": [
    "translater = translate()\n",
    "x_train = translater.translate(x_train)\n",
    "y_train_hydra = standardize(y_train)"
   ]
  },
  {
   "cell_type": "code",
   "execution_count": 13,
   "metadata": {},
   "outputs": [],
   "source": [
    "from HydraMethod import HydraMethod\n",
    "from modelArchitecture.ResnetRnnDense import ResnetRnnDense\n",
    "hydra = HydraMethod(ResnetRnnDense(), 4)"
   ]
  },
  {
   "cell_type": "code",
   "execution_count": 14,
   "metadata": {},
   "outputs": [],
   "source": [
    "pred_hydra = model.predict(hydra.get_all_representation(x_train))"
   ]
  },
  {
   "cell_type": "code",
   "execution_count": 15,
   "metadata": {},
   "outputs": [
    {
     "data": {
      "text/plain": [
       "array([23.7569115])"
      ]
     },
     "execution_count": 15,
     "metadata": {},
     "output_type": "execute_result"
    }
   ],
   "source": [
    "t95(y_train_hydra, pred_hydra,0.95)"
   ]
  },
  {
   "cell_type": "code",
   "execution_count": 17,
   "metadata": {},
   "outputs": [],
   "source": [
    "steps = np.linspace(0.05,1,100)\n",
    "t_prosit = [t95(y_test_prosit, pred_prosit,n) for n in steps]\n",
    "t_four = [t95(y_train_hydra, pred_hydra,n) for n in steps]"
   ]
  },
  {
   "cell_type": "code",
   "execution_count": 18,
   "metadata": {},
   "outputs": [
    {
     "data": {
      "image/png": "[encoded data removed]",
      "text/plain": [
       "<Figure size 432x288 with 1 Axes>"
      ]
     },
     "metadata": {},
     "output_type": "display_data"
    }
   ],
   "source": [
    "plt.plot(steps,t_four,linestyle = '--',color=\"red\",label=\"Four Headed Hydra\")\n",
    "plt.plot(steps,t_prosit,linestyle = '--',color=\"blue\",label=\"Prosit\")\n",
    "plt.yscale(\"log\")\n",
    "plt.yscale(\"log\")\n",
    "plt.xlabel(r'\\%')\n",
    "plt.ylabel(r'$\\Delta$$t_{\\%}$',fontsize=16)\n",
    "plt.title(r'$\\Delta$$t_{\\%}$ comparison between models - Full range')\n",
    "plt.legend()\n",
    "plt.savefig(\"t95_full\")"
   ]
  },
  {
   "cell_type": "code",
   "execution_count": 25,
   "metadata": {},
   "outputs": [],
   "source": [
    "pred_prosit = genfromtxt(\"../Prosit/predict/new_data_tensor_2_irt_predicted.csv\")\n",
    "y_test_prosit = np.load(\"../data/non_seen_pep/non_seen_irt_2.npy\")\n"
   ]
  },
  {
   "cell_type": "code",
   "execution_count": 26,
   "metadata": {},
   "outputs": [
    {
     "data": {
      "text/plain": [
       "array([22.45996909])"
      ]
     },
     "execution_count": 26,
     "metadata": {},
     "output_type": "execute_result"
    }
   ],
   "source": [
    "t95(y_test_prosit, pred_prosit,0.95)"
   ]
  },
  {
   "cell_type": "code",
   "execution_count": 28,
   "metadata": {},
   "outputs": [
    {
     "name": "stdout",
     "output_type": "stream",
     "text": [
      "12634\n"
     ]
    }
   ],
   "source": [
    "from utils import split_data, translate, save_model, standardize, result\n",
    "PATH = \"../HydraMethod/data/non_seen_pep/non_seen_pep_datafram_2.csv\"\n",
    "splitter = split_data(PATH, PATH, train_size=0.99)\n",
    "x_train, y_train = splitter.split()"
   ]
  },
  {
   "cell_type": "code",
   "execution_count": 29,
   "metadata": {},
   "outputs": [],
   "source": [
    "translater = translate()\n",
    "x_train = translater.translate(x_train)\n",
    "y_train_hydra = standardize(y_train)"
   ]
  },
  {
   "cell_type": "code",
   "execution_count": 30,
   "metadata": {},
   "outputs": [],
   "source": [
    "from HydraMethod import HydraMethod\n",
    "from modelArchitecture.ResnetRnnDense import ResnetRnnDense\n",
    "hydra = HydraMethod(ResnetRnnDense(), 4)"
   ]
  },
  {
   "cell_type": "code",
   "execution_count": 31,
   "metadata": {},
   "outputs": [],
   "source": [
    "pred_hydra = model.predict(hydra.get_all_representation(x_train))"
   ]
  },
  {
   "cell_type": "code",
   "execution_count": 32,
   "metadata": {},
   "outputs": [
    {
     "data": {
      "text/plain": [
       "array([20.36492142])"
      ]
     },
     "execution_count": 32,
     "metadata": {},
     "output_type": "execute_result"
    }
   ],
   "source": [
    "t95(y_train_hydra, pred_hydra,0.95)"
   ]
  },
  {
   "cell_type": "code",
   "execution_count": 33,
   "metadata": {},
   "outputs": [],
   "source": [
    "steps = np.linspace(0.05,1,100)\n",
    "t_prosit = [t95(y_test_prosit, pred_prosit,n) for n in steps]\n",
    "t_four = [t95(y_train_hydra, pred_hydra,n) for n in steps]"
   ]
  },
  {
   "cell_type": "code",
   "execution_count": 34,
   "metadata": {},
   "outputs": [
    {
     "data": {
      "image/png": "[encoded data removed]",
      "text/plain": [
       "<Figure size 432x288 with 1 Axes>"
      ]
     },
     "metadata": {},
     "output_type": "display_data"
    }
   ],
   "source": [
    "plt.plot(steps,t_four,linestyle = '--',color=\"red\",label=\"Four Headed Hydra\")\n",
    "plt.plot(steps,t_prosit,linestyle = '--',color=\"blue\",label=\"Prosit\")\n",
    "plt.yscale(\"log\")\n",
    "plt.yscale(\"log\")\n",
    "plt.xlabel(r'\\%')\n",
    "plt.ylabel(r'$\\Delta$$t_{\\%}$',fontsize=16)\n",
    "plt.title(r'$\\Delta$$t_{\\%}$ comparison between models - Full range')\n",
    "plt.legend()\n",
    "plt.savefig(\"t95_full\")"
   ]
  },
  {
   "cell_type": "code",
   "execution_count": 35,
   "metadata": {},
   "outputs": [],
   "source": [
    "steps = np.linspace(0.4,0.95,100)\n",
    "t_prosit = [t95(y_test_prosit, pred_prosit,n) for n in steps]\n",
    "t_four = [t95(y_train_hydra, pred_hydra,n) for n in steps]"
   ]
  },
  {
   "cell_type": "code",
   "execution_count": 36,
   "metadata": {},
   "outputs": [
    {
     "data": {
      "image/png": "[encoded data removed]",
      "text/plain": [
       "<Figure size 432x288 with 1 Axes>"
      ]
     },
     "metadata": {},
     "output_type": "display_data"
    }
   ],
   "source": [
    "plt.plot(steps,t_four,linestyle = '--',color=\"red\",label=\"Four Headed Hydra\")\n",
    "plt.plot(steps,t_prosit,linestyle = '--',color=\"blue\",label=\"Prosit\")\n",
    "plt.yscale(\"log\")\n",
    "plt.yscale(\"log\")\n",
    "plt.xlabel(r'\\%')\n",
    "plt.ylabel(r'$\\Delta$$t_{\\%}$',fontsize=16)\n",
    "plt.title(r'$\\Delta$$t_{\\%}$ comparison between models - Full range')\n",
    "plt.legend()\n",
    "plt.savefig(\"t95_full\")"
   ]
  },
  {
   "cell_type": "code",
   "execution_count": null,
   "metadata": {},
   "outputs": [],
   "source": []
  },
  {
   "cell_type": "code",
   "execution_count": null,
   "metadata": {},
   "outputs": [],
   "source": []
  },
  {
   "cell_type": "code",
   "execution_count": null,
   "metadata": {},
   "outputs": [],
   "source": [
    "from utils import split_data, translate, save_model, standardize, result\n",
    "PATH = \"../data/non_seen_pep/non_seen_pep_datafram_2.csv\"\n",
    "splitter = split_data(PATH, PATH, train_size=0.99)\n",
    "x_train, y_train = splitter.split()"
   ]
  },
  {
   "cell_type": "code",
   "execution_count": null,
   "metadata": {},
   "outputs": [],
   "source": []
  },
  {
   "cell_type": "code",
   "execution_count": null,
   "metadata": {},
   "outputs": [],
   "source": []
  },
  {
   "cell_type": "code",
   "execution_count": null,
   "metadata": {},
   "outputs": [],
   "source": [
    "pred_four_head = four_heads.predict([X_forward_pre_test, X_backward_pre_test, X_forward_post_test, X_backward_post_test])\n",
    "pred_one_head = one_head.predict([X_forward_pre_test])\n",
    "pred_two_head = two_head.predict([X_forward_pre_test,X_backward_pre_test])\n",
    "pred_three_head = three_head.predict([X_forward_pre_test,X_backward_pre_test,X_forward_post_test])"
   ]
  },
  {
   "cell_type": "code",
   "execution_count": null,
   "metadata": {},
   "outputs": [],
   "source": [
    "steps = np.linspace(0.05,0.95,100)\n",
    "t_prosit = [t95(y_test_prosit, pred_prosit,n) for n in steps]\n",
    "t_four = [t95(y_test_std, pred_four_head,n) for n in steps]\n",
    "t_one = [t95(y_test_std, pred_one_head,n) for n in steps]\n",
    "t_two = [t95(y_test_std, pred_two_head,n) for n in steps]\n",
    "t_three = [t95(y_test_std, pred_three_head,n) for n in steps]"
   ]
  },
  {
   "cell_type": "code",
   "execution_count": null,
   "metadata": {},
   "outputs": [],
   "source": [
    "plt.plot(steps,t_four,linestyle = '--',color=\"red\",label=\"Three Headed Hydra\")\n",
    "plt.plot(steps,t_one,linestyle = '--',color=\"green\",label=\"One Headed Hydra\")\n",
    "plt.plot(steps,t_two,linestyle = '--',color=\"black\",label=\"Two Headed Hydra\")\n",
    "plt.plot(steps,t_prosit,linestyle = '--',color=\"blue\",label=\"Prosit\")\n",
    "plt.plot(steps,t_three,linestyle = '--',color=\"yellow\",label=\"Four Headed Hydra\")\n",
    "plt.yscale(\"log\")\n",
    "plt.yscale(\"log\")\n",
    "plt.xlabel(r'\\%')\n",
    "plt.ylabel(r'$\\Delta$$t_{\\%}$',fontsize=16)\n",
    "plt.title(r'$\\Delta$$t_{\\%}$ comparison between models - Full range')\n",
    "plt.legend()\n",
    "plt.savefig(\"t95_full\")"
   ]
  },
  {
   "cell_type": "code",
   "execution_count": null,
   "metadata": {},
   "outputs": [],
   "source": [
    "steps = np.linspace(0.2,.9,100)\n",
    "t_prosit = [t95(y_test_prosit, pred_prosit,n) for n in steps]\n",
    "t_four = [t95(y_test_std, pred_four_head,n) for n in steps]\n",
    "t_one = [t95(y_test_std, pred_one_head,n) for n in steps]\n",
    "t_two = [t95(y_test_std, pred_two_head,n) for n in steps]\n",
    "t_three = [t95(y_test_std, pred_three_head,n) for n in steps]"
   ]
  },
  {
   "cell_type": "code",
   "execution_count": null,
   "metadata": {
    "scrolled": true
   },
   "outputs": [],
   "source": [
    "plt.rc('text', usetex=True)\n",
    "plt.rc('font', family='serif')\n",
    "plt.plot(steps,t_four,linestyle = '--',color=\"red\",label=\"Three Headed Hydra\")\n",
    "plt.plot(steps,t_one,linestyle = '--',color=\"green\",label=\"One Headed Hydra\")\n",
    "plt.plot(steps,t_two,linestyle = '--',color=\"black\",label=\"Two Headed Hydra\")\n",
    "plt.plot(steps,t_prosit,linestyle = '--',color=\"blue\",label=\"Prosit\")\n",
    "plt.plot(steps,t_three,linestyle = '--',color=\"yellow\",label=\"Four Headed Hydra\")\n",
    "plt.title(r'$\\Delta$$t_{\\%}$ comparison between models - Zoomed in')\n",
    "plt.yscale(\"log\")\n",
    "plt.xlabel(r'\\%')\n",
    "plt.ylabel(r'$\\Delta$$t_{\\%}$',fontsize=16)\n",
    "plt.legend()\n",
    "plt.savefig(\"t95_zoom\")"
   ]
  },
  {
   "cell_type": "code",
   "execution_count": null,
   "metadata": {},
   "outputs": [],
   "source": [
    "t_prosit"
   ]
  },
  {
   "cell_type": "code",
   "execution_count": null,
   "metadata": {},
   "outputs": [],
   "source": [
    "plt.rc('text', usetex=True)\n",
    "plt.rc('font', family='serif')\n",
    "steps = np.linspace(0,.95,100)\n",
    "t_prosit = [t95(y_test_prosit, pred_prosit,n) for n in steps]\n",
    "t_four = [t95(y_test_std, pred_four_head,n) for n in steps]\n",
    "t_one = [t95(y_test_std, pred_one_head,n) for n in steps]\n",
    "#plt.xlabel(\"%\")\n",
    "#plt.xlabel(\"t%\")\n",
    "procent = steps * 100\n",
    "plt.plot(steps,t_four,color=\"red\")\n",
    "plt.plot(steps,t_one,color=\"green\")\n",
    "plt.plot(steps,t_prosit,color=\"blue\")\n",
    "plt.xlabel(r'\\%')\n",
    "plt.ylabel(r'$\\Delta$$t_{\\%}$',fontsize=16)"
   ]
  },
  {
   "cell_type": "code",
   "execution_count": null,
   "metadata": {},
   "outputs": [],
   "source": [
    "plt.rc('text', usetex=True)\n",
    "plt.rc('font', family='serif')\n",
    "steps = np.linspace(0.4,.9,100)\n",
    "t_prosit = [t95(y_test_prosit, pred_prosit,n) for n in steps]\n",
    "t_four = [t95(y_test_std, pred_four_head,n) for n in steps]\n",
    "t_one = [t95(y_test_std, pred_one_head,n) for n in steps]\n",
    "#plt.xlabel(\"%\")\n",
    "#plt.xlabel(\"t%\")\n",
    "procent = steps * 100\n",
    "plt.plot(steps,t_four,color=\"red\")\n",
    "plt.plot(steps,t_one,color=\"green\")\n",
    "plt.plot(steps,t_prosit,color=\"blue\")\n",
    "plt.rc('text', usetex=True)\n",
    "plt.rc('font', family='serif')\n",
    "plt.xlabel(r'\\%')\n",
    "plt.ylabel(r'$\\Delta$$t_{\\%}$',fontsize=16)"
   ]
  },
  {
   "cell_type": "code",
   "execution_count": null,
   "metadata": {},
   "outputs": [],
   "source": []
  },
  {
   "cell_type": "code",
   "execution_count": null,
   "metadata": {},
   "outputs": [],
   "source": []
  },
  {
   "cell_type": "code",
   "execution_count": null,
   "metadata": {},
   "outputs": [],
   "source": []
  },
  {
   "cell_type": "code",
   "execution_count": null,
   "metadata": {},
   "outputs": [],
   "source": [
    "steps = np.linspace(0.65,.95,100)\n",
    "t_prosit = [t95(y_test_prosit, pred_prosit,n) for n in steps]\n",
    "t_model = [t95(y_test_std, pred_moel,n) for n in steps]\n",
    "plt.plot(steps,t_model,color=\"red\")\n",
    "plt.plot(steps,t_prosit,color=\"blue\")"
   ]
  },
  {
   "cell_type": "code",
   "execution_count": null,
   "metadata": {},
   "outputs": [],
   "source": [
    "steps = np.linspace(0.6,.8,100)\n",
    "t_prosit = [t95(y_test_prosit, pred_prosit,n) for n in steps]\n",
    "t_model = [t95(y_test_std, pred_moel,n) for n in steps]\n",
    "plt.plot(steps,t_model,color=\"red\")\n",
    "plt.plot(steps,t_prosit,color=\"blue\")"
   ]
  },
  {
   "cell_type": "code",
   "execution_count": null,
   "metadata": {},
   "outputs": [],
   "source": [
    "steps = np.linspace(0.8,.95,100)\n",
    "t_prosit = [t95(y_test_prosit, pred_prosit,n) for n in steps]\n",
    "t_model = [t95(y_test_std, pred_moel,n) for n in steps]\n",
    "plt.plot(steps,t_model,color=\"red\")\n",
    "plt.plot(steps,t_prosit,color=\"blue\")"
   ]
  },
  {
   "cell_type": "code",
   "execution_count": null,
   "metadata": {},
   "outputs": [],
   "source": [
    "steps = np.linspace(0.95,1,100)\n",
    "t_prosit = [t95(y_test_prosit, pred_prosit,n) for n in steps]\n",
    "t_model = [t95(y_test_std, pred_moel,n) for n in steps]\n",
    "plt.plot(steps,t_model,color=\"red\")\n",
    "plt.plot(steps,t_prosit,color=\"blue\")"
   ]
  },
  {
   "cell_type": "code",
   "execution_count": null,
   "metadata": {},
   "outputs": [],
   "source": []
  }
 ],
 "metadata": {
  "kernelspec": {
   "display_name": "Python 3",
   "language": "python",
   "name": "python3"
  },
  "language_info": {
   "codemirror_mode": {
    "name": "ipython",
    "version": 3
   },
   "file_extension": ".py",
   "mimetype": "text/x-python",
   "name": "python",
   "nbconvert_exporter": "python",
   "pygments_lexer": "ipython3",
   "version": "3.6.5"
  }
 },
 "nbformat": 4,
 "nbformat_minor": 2
}
