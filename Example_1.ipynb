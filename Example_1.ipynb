{
 "cells": [
  {
   "cell_type": "code",
   "execution_count": 2,
   "metadata": {},
   "outputs": [],
   "source": [
    "from utils import split_data\n",
    "\n",
    "PATH = \"./data/\"\n",
    "splitter = split_data(PATH + \"raw.csv\", PATH, test_size=0.1,\n",
    "                          train_size=0.3)\n",
    "x_train, y_train, x_test, y_test = splitter.split()"
   ]
  },
  {
   "cell_type": "code",
   "execution_count": 3,
   "metadata": {},
   "outputs": [],
   "source": [
    "from utils import translate\n",
    "\n",
    "translater = translate()\n",
    "x_train = translater.translate(x_train)\n",
    "x_test = translater.translate(x_test)"
   ]
  },
  {
   "cell_type": "code",
   "execution_count": 4,
   "metadata": {},
   "outputs": [],
   "source": [
    "from utils import standardize\n",
    "\n",
    "y_train_std, y_test_std = standardize(y_train, y_test)"
   ]
  },
  {
   "cell_type": "code",
   "execution_count": 5,
   "metadata": {},
   "outputs": [],
   "source": [
    "from keras.layers import (Embedding, Bidirectional, CuDNNGRU, Dense)\n",
    "from modelArchitecture.Attention import Attention\n",
    "from modelArchitecture.ResnetRnnDense import ResnetRnnDense\n",
    "\n",
    "class simple_model():\n",
    "    def compile(self, x):\n",
    "        x = Embedding(22, 32, input_length=32)(x)\n",
    "        x = Bidirectional(CuDNNGRU(256, return_sequences=True))(x)\n",
    "        x = CuDNNGRU(512, return_sequences=True)(x)\n",
    "        x = Attention()(x)\n",
    "        x = Dense(512, activation=\"elu\")(x)\n",
    "        return Dense(1)(x)"
   ]
  },
  {
   "cell_type": "code",
   "execution_count": 6,
   "metadata": {},
   "outputs": [],
   "source": [
    "from HydraMethod import HydraMethod"
   ]
  },
  {
   "cell_type": "code",
   "execution_count": 7,
   "metadata": {},
   "outputs": [],
   "source": [
    "one_head_hydra = HydraMethod(simple_model, 1);one_head_hydra.compile()"
   ]
  },
  {
   "cell_type": "code",
   "execution_count": 8,
   "metadata": {},
   "outputs": [],
   "source": [
    "from utils import LRFinder"
   ]
  },
  {
   "cell_type": "code",
   "execution_count": 9,
   "metadata": {},
   "outputs": [
    {
     "name": "stdout",
     "output_type": "stream",
     "text": [
      "Epoch 1/3\n",
      "331300/331300 [==============================] - 103s 312us/step - loss: 0.4097\n",
      "Epoch 2/3\n",
      "271296/331300 [=======================>......] - ETA: 17s - loss: 0.1638"
     ]
    }
   ],
   "source": [
    "lr_finder = LRFinder(one_head_hydra.get_model())\n",
    "lr_finder.find(one_head_hydra.get_all_representation(x_train), \n",
    "               y_train_std, 0.000001, 1, 64, 3,fit=True)"
   ]
  },
  {
   "cell_type": "code",
   "execution_count": 10,
   "metadata": {},
   "outputs": [
    {
     "data": {
      "image/png": "[encoded data removed]",
      "text/plain": [
       "<Figure size 432x288 with 1 Axes>"
      ]
     },
     "metadata": {},
     "output_type": "display_data"
    }
   ],
   "source": [
    "lr_finder.plot_loss()"
   ]
  },
  {
   "cell_type": "code",
   "execution_count": 11,
   "metadata": {},
   "outputs": [
    {
     "name": "stdout",
     "output_type": "stream",
     "text": [
      "Train on 331300 samples, validate on 104716 samples\n",
      "Epoch 1/3\n",
      "331300/331300 [==============================] - 110s 331us/step - loss: 0.0803 - val_loss: 0.0782\n",
      "Epoch 2/3\n",
      "331300/331300 [==============================] - 107s 323us/step - loss: 0.0680 - val_loss: 0.0716\n",
      "Epoch 3/3\n",
      "331300/331300 [==============================] - 107s 322us/step - loss: 0.0615 - val_loss: 0.0656\n"
     ]
    }
   ],
   "source": [
    "one_head_hydra.compile(learning_rate=1e-4)\n",
    "trained_one_head_hydra = one_head_hydra.fit(x_train, y_train_std, x_test, y_test_std,batch_size=64)"
   ]
  },
  {
   "cell_type": "code",
   "execution_count": 13,
   "metadata": {},
   "outputs": [],
   "source": [
    "two_head_hydra = HydraMethod(simple_model, 2);two_head_hydra.compile()"
   ]
  },
  {
   "cell_type": "code",
   "execution_count": 14,
   "metadata": {},
   "outputs": [
    {
     "name": "stdout",
     "output_type": "stream",
     "text": [
      "Epoch 1/3\n",
      "331300/331300 [==============================] - 195s 590us/step - loss: 0.4093\n",
      "Epoch 2/3\n",
      "273216/331300 [=======================>......] - ETA: 32s - loss: 0.1557"
     ]
    }
   ],
   "source": [
    "lr_finder = LRFinder(two_head_hydra.get_model())\n",
    "lr_finder.find(two_head_hydra.get_all_representation(x_train), \n",
    "               y_train_std, 0.000001, 1, 64, 3,fit=True)"
   ]
  },
  {
   "cell_type": "code",
   "execution_count": 15,
   "metadata": {},
   "outputs": [
    {
     "data": {
      "image/png": "[encoded data removed]",
      "text/plain": [
       "<Figure size 432x288 with 1 Axes>"
      ]
     },
     "metadata": {},
     "output_type": "display_data"
    }
   ],
   "source": [
    "lr_finder.plot_loss()"
   ]
  },
  {
   "cell_type": "code",
   "execution_count": 16,
   "metadata": {},
   "outputs": [
    {
     "name": "stdout",
     "output_type": "stream",
     "text": [
      "Train on 331300 samples, validate on 104716 samples\n",
      "Epoch 1/3\n",
      "331300/331300 [==============================] - 198s 597us/step - loss: 0.0762 - val_loss: 0.0753\n",
      "Epoch 2/3\n",
      "331300/331300 [==============================] - 196s 591us/step - loss: 0.0642 - val_loss: 0.0670\n",
      "Epoch 3/3\n",
      "331300/331300 [==============================] - 195s 590us/step - loss: 0.0581 - val_loss: 0.0657\n"
     ]
    }
   ],
   "source": [
    "two_head_hydra.compile(learning_rate=1e-4)\n",
    "trained_two_head_hydra = two_head_hydra.fit(x_train, y_train_std, x_test, y_test_std, batch_size=64)"
   ]
  },
  {
   "cell_type": "code",
   "execution_count": 17,
   "metadata": {},
   "outputs": [],
   "source": [
    "three_head_hydra = HydraMethod(simple_model, 3);three_head_hydra.compile()"
   ]
  },
  {
   "cell_type": "code",
   "execution_count": 18,
   "metadata": {},
   "outputs": [
    {
     "name": "stdout",
     "output_type": "stream",
     "text": [
      "Epoch 1/3\n",
      "331300/331300 [==============================] - 280s 845us/step - loss: 0.3973\n",
      "Epoch 2/3\n",
      "311232/331300 [===========================>..] - ETA: 16s - loss: 0.1501"
     ]
    }
   ],
   "source": [
    "lr_finder = LRFinder(three_head_hydra.get_model())\n",
    "lr_finder.find(three_head_hydra.get_all_representation(x_train), \n",
    "               y_train_std, 0.000001, 1, 64, 3,fit=True)"
   ]
  },
  {
   "cell_type": "code",
   "execution_count": 19,
   "metadata": {},
   "outputs": [
    {
     "data": {
      "image/png": "[encoded data removed]",
      "text/plain": [
       "<Figure size 432x288 with 1 Axes>"
      ]
     },
     "metadata": {},
     "output_type": "display_data"
    }
   ],
   "source": [
    "lr_finder.plot_loss()"
   ]
  },
  {
   "cell_type": "code",
   "execution_count": 20,
   "metadata": {},
   "outputs": [
    {
     "name": "stdout",
     "output_type": "stream",
     "text": [
      "Train on 331300 samples, validate on 104716 samples\n",
      "Epoch 1/3\n",
      "331300/331300 [==============================] - 302s 912us/step - loss: 0.0723 - val_loss: 0.0698\n",
      "Epoch 2/3\n",
      "331300/331300 [==============================] - 300s 906us/step - loss: 0.0604 - val_loss: 0.0689\n",
      "Epoch 3/3\n",
      "331300/331300 [==============================] - 301s 908us/step - loss: 0.0559 - val_loss: 0.0619\n"
     ]
    }
   ],
   "source": [
    "three_head_hydra.compile(learning_rate=1e-4)\n",
    "trained_three_head_hydra = three_head_hydra.fit(x_train, y_train_std, x_test, y_test_std, batch_size=64)"
   ]
  },
  {
   "cell_type": "code",
   "execution_count": 21,
   "metadata": {},
   "outputs": [],
   "source": [
    "four_head_hydra = HydraMethod(simple_model, 4);four_head_hydra.compile()"
   ]
  },
  {
   "cell_type": "code",
   "execution_count": 22,
   "metadata": {},
   "outputs": [
    {
     "name": "stdout",
     "output_type": "stream",
     "text": [
      "Epoch 1/3\n",
      "331300/331300 [==============================] - 377s 1ms/step - loss: 0.3799\n",
      "Epoch 2/3\n",
      "215616/331300 [==================>...........] - ETA: 2:10 - loss: 0.1636"
     ]
    }
   ],
   "source": [
    "lr_finder = LRFinder(four_head_hydra.get_model())\n",
    "lr_finder.find(four_head_hydra.get_all_representation(x_train), \n",
    "               y_train_std, 0.000001, 1, 64, 3,fit=True)"
   ]
  },
  {
   "cell_type": "code",
   "execution_count": 23,
   "metadata": {},
   "outputs": [
    {
     "data": {
      "image/png": "[encoded data removed]",
      "text/plain": [
       "<Figure size 432x288 with 1 Axes>"
      ]
     },
     "metadata": {},
     "output_type": "display_data"
    }
   ],
   "source": [
    "lr_finder.plot_loss()"
   ]
  },
  {
   "cell_type": "code",
   "execution_count": 24,
   "metadata": {},
   "outputs": [
    {
     "name": "stdout",
     "output_type": "stream",
     "text": [
      "Train on 331300 samples, validate on 104716 samples\n",
      "Epoch 1/3\n",
      "331300/331300 [==============================] - 411s 1ms/step - loss: 0.0891 - val_loss: 0.0849\n",
      "Epoch 2/3\n",
      "331300/331300 [==============================] - 406s 1ms/step - loss: 0.0755 - val_loss: 0.0770\n",
      "Epoch 3/3\n",
      "331300/331300 [==============================] - 407s 1ms/step - loss: 0.0687 - val_loss: 0.0755\n"
     ]
    }
   ],
   "source": [
    "four_head_hydra.compile(learning_rate=1e-4)\n",
    "trained_four_head_hydra = four_head_hydra.fit(x_train, y_train_std, x_test, y_test_std, batch_size=64)"
   ]
  },
  {
   "cell_type": "code",
   "execution_count": null,
   "metadata": {},
   "outputs": [],
   "source": []
  },
  {
   "cell_type": "code",
   "execution_count": null,
   "metadata": {},
   "outputs": [],
   "source": []
  },
  {
   "cell_type": "code",
   "execution_count": null,
   "metadata": {},
   "outputs": [],
   "source": [
    "one_head_hydra = HydraMethod(ResnetRnnDense, 1);one_head_hydra.compile()"
   ]
  },
  {
   "cell_type": "code",
   "execution_count": null,
   "metadata": {},
   "outputs": [],
   "source": [
    "from utils import LRFinder"
   ]
  },
  {
   "cell_type": "code",
   "execution_count": null,
   "metadata": {},
   "outputs": [],
   "source": [
    "lr_finder = LRFinder(one_head_hydra.get_model())\n",
    "lr_finder.find(one_head_hydra.get_all_representation(x_train), \n",
    "               y_train_std, 0.000001, 1, 64, 3,fit=True)"
   ]
  },
  {
   "cell_type": "code",
   "execution_count": null,
   "metadata": {},
   "outputs": [],
   "source": [
    "lr_finder.plot_loss()"
   ]
  },
  {
   "cell_type": "code",
   "execution_count": null,
   "metadata": {},
   "outputs": [],
   "source": [
    "one_head_hydra.compile(learning_rate=1e-3)\n",
    "trained_one_head_hydra = one_head_hydra.fit(x_train, y_train_std, x_test, y_test_std)"
   ]
  },
  {
   "cell_type": "code",
   "execution_count": null,
   "metadata": {},
   "outputs": [],
   "source": [
    "two_head_hydra = HydraMethod(ResnetRnnDense, 2);two_head_hydra.compile()"
   ]
  },
  {
   "cell_type": "code",
   "execution_count": null,
   "metadata": {},
   "outputs": [],
   "source": [
    "lr_finder = LRFinder(two_head_hydra.get_model())\n",
    "lr_finder.find(two_head_hydra.get_all_representation(x_train), \n",
    "               y_train_std, 0.000001, 1, 64, 3,fit=True)"
   ]
  },
  {
   "cell_type": "code",
   "execution_count": null,
   "metadata": {},
   "outputs": [],
   "source": [
    "lr_finder.plot_loss()"
   ]
  },
  {
   "cell_type": "code",
   "execution_count": null,
   "metadata": {},
   "outputs": [],
   "source": [
    "two_head_hydra.compile(learning_rate=4e-5)\n",
    "trained_two_head_hydra = two_head_hydra.fit(x_train, y_train_std, x_test, y_test_std)"
   ]
  },
  {
   "cell_type": "code",
   "execution_count": null,
   "metadata": {},
   "outputs": [],
   "source": []
  }
 ],
 "metadata": {
  "kernelspec": {
   "display_name": "Python 3",
   "language": "python",
   "name": "python3"
  },
  "language_info": {
   "codemirror_mode": {
    "name": "ipython",
    "version": 3
   },
   "file_extension": ".py",
   "mimetype": "text/x-python",
   "name": "python",
   "nbconvert_exporter": "python",
   "pygments_lexer": "ipython3",
   "version": "3.6.5"
  }
 },
 "nbformat": 4,
 "nbformat_minor": 2
}
