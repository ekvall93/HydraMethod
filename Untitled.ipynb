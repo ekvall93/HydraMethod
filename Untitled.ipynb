{
 "cells": [
  {
   "cell_type": "code",
   "execution_count": 1,
   "metadata": {},
   "outputs": [
    {
     "name": "stderr",
     "output_type": "stream",
     "text": [
      "/home/paperspace/anaconda3/lib/python3.6/site-packages/h5py/__init__.py:36: FutureWarning: Conversion of the second argument of issubdtype from `float` to `np.floating` is deprecated. In future, it will be treated as `np.float64 == np.dtype(float).type`.\n",
      "  from ._conv import register_converters as _register_converters\n",
      "Using TensorFlow backend.\n",
      "/home/paperspace/hydraNet/HydraMethod/utils.py:85: SyntaxWarning: assertion is always true, perhaps remove parentheses?\n",
      "  assert(test_size + train_size <= 1.0,\n",
      "/home/paperspace/hydraNet/HydraMethod/utils.py:233: SyntaxWarning: assertion is always true, perhaps remove parentheses?\n",
      "  assert(validation_split + test_split + train_size <= 1.0,\n"
     ]
    }
   ],
   "source": [
    "from modelArchitecture.ResnetRnnDense import ResnetRnnDense\n",
    "\n",
    "from keras.models import model_from_yaml\n",
    "from utils import split_data, translate, save_model, standardize\n",
    "from HydraMethod import HydraMethod"
   ]
  },
  {
   "cell_type": "code",
   "execution_count": 2,
   "metadata": {},
   "outputs": [],
   "source": [
    "PATH = \"./data/\"\n",
    "splitter = split_data(PATH + \"raw.csv\", PATH, test_size=0.05,\n",
    "                          train_size=0.05)\n",
    "x_train, y_train, x_test, y_test = splitter.split()"
   ]
  },
  {
   "cell_type": "code",
   "execution_count": 3,
   "metadata": {},
   "outputs": [],
   "source": [
    "translater = translate()\n",
    "x_train = translater.translate(x_train)\n",
    "x_test = translater.translate(x_test)"
   ]
  },
  {
   "cell_type": "code",
   "execution_count": 4,
   "metadata": {},
   "outputs": [],
   "source": [
    "y_train_std, y_test_std = standardize(y_train, y_test)"
   ]
  },
  {
   "cell_type": "code",
   "execution_count": 24,
   "metadata": {},
   "outputs": [],
   "source": [
    "from keras.layers import (Embedding, Bidirectional, CuDNNLSTM, Dense)\n",
    "from modelArchitecture.Attention import Attention\n",
    "class simple_model():\n",
    "    def compile(self, x):\n",
    "        x = Embedding(22, 32, input_length=32)(x)\n",
    "        x = Bidirectional(CuDNNLSTM(512, return_sequences=True))(x)\n",
    "        x = Bidirectional(CuDNNLSTM(512, return_sequences=True))(x)\n",
    "        x = Attention()(x)\n",
    "        x = Dense(512, activation=\"elu\")(x)\n",
    "        return Dense(1, activation=\"relu\")(x)"
   ]
  },
  {
   "cell_type": "code",
   "execution_count": 27,
   "metadata": {},
   "outputs": [],
   "source": [
    "one_head_hydra = HydraMethod(simple_model, 1)"
   ]
  },
  {
   "cell_type": "code",
   "execution_count": 28,
   "metadata": {},
   "outputs": [
    {
     "name": "stdout",
     "output_type": "stream",
     "text": [
      "Train on 53606 samples, validate on 52176 samples\n",
      "Epoch 1/3\n",
      "53606/53606 [==============================] - 57s 1ms/step - loss: 0.8447 - val_loss: 0.8076\n",
      "Epoch 2/3\n",
      "53606/53606 [==============================] - 56s 1ms/step - loss: 0.8440 - val_loss: 0.8067\n",
      "Epoch 3/3\n",
      "53606/53606 [==============================] - 56s 1ms/step - loss: 0.8438 - val_loss: 0.8062\n"
     ]
    }
   ],
   "source": [
    "trained_one_head_hydra = one_head_hydra.fit(x_train, y_train_std, x_test, y_test_std)"
   ]
  },
  {
   "cell_type": "code",
   "execution_count": null,
   "metadata": {},
   "outputs": [],
   "source": []
  }
 ],
 "metadata": {
  "kernelspec": {
   "display_name": "Python 3",
   "language": "python",
   "name": "python3"
  },
  "language_info": {
   "codemirror_mode": {
    "name": "ipython",
    "version": 3
   },
   "file_extension": ".py",
   "mimetype": "text/x-python",
   "name": "python",
   "nbconvert_exporter": "python",
   "pygments_lexer": "ipython3",
   "version": "3.6.5"
  }
 },
 "nbformat": 4,
 "nbformat_minor": 2
}
