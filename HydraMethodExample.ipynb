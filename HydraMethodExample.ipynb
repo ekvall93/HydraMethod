{
 "cells": [
  {
   "cell_type": "code",
   "execution_count": 1,
   "metadata": {},
   "outputs": [
    {
     "name": "stderr",
     "output_type": "stream",
     "text": [
      "/home/paperspace/anaconda3/lib/python3.6/site-packages/h5py/__init__.py:36: FutureWarning: Conversion of the second argument of issubdtype from `float` to `np.floating` is deprecated. In future, it will be treated as `np.float64 == np.dtype(float).type`.\n",
      "  from ._conv import register_converters as _register_converters\n",
      "Using TensorFlow backend.\n"
     ]
    }
   ],
   "source": [
    "from utils import split_data\n",
    "\n",
    "PATH = \"./data/\"\n",
    "splitter = split_data(PATH + \"raw.csv\", PATH, test_size=0.01,\n",
    "                          train_size=0.1)\n",
    "x_train, y_train, x_test, y_test = splitter.split()"
   ]
  },
  {
   "cell_type": "code",
   "execution_count": 2,
   "metadata": {},
   "outputs": [],
   "source": [
    "from utils import translate\n",
    "\n",
    "translater = translate()\n",
    "x_train = translater.translate(x_train)\n",
    "x_test = translater.translate(x_test)"
   ]
  },
  {
   "cell_type": "code",
   "execution_count": 3,
   "metadata": {},
   "outputs": [],
   "source": [
    "from utils import standardize\n",
    "\n",
    "y_train_std, y_test_std = standardize(y_train, y_test)"
   ]
  },
  {
   "cell_type": "code",
   "execution_count": 4,
   "metadata": {},
   "outputs": [],
   "source": [
    "from modelArchitecture.ResnetRnnDense import ResnetRnnDense"
   ]
  },
  {
   "cell_type": "code",
   "execution_count": 5,
   "metadata": {},
   "outputs": [],
   "source": [
    "from HydraMethod import HydraMethod"
   ]
  },
  {
   "cell_type": "code",
   "execution_count": 6,
   "metadata": {},
   "outputs": [],
   "source": [
    "one_head_hydra = HydraMethod(ResnetRnnDense, 1);one_head_hydra.compile()"
   ]
  },
  {
   "cell_type": "code",
   "execution_count": 8,
   "metadata": {},
   "outputs": [
    {
     "name": "stdout",
     "output_type": "stream",
     "text": [
      "Train on 105837 samples, validate on 10187 samples\n",
      "Epoch 1/10\n",
      "105837/105837 [==============================] - 55s 520us/step - loss: 0.2332 - val_loss: 0.1937\n",
      "Epoch 2/10\n",
      "105837/105837 [==============================] - 48s 456us/step - loss: 0.1614 - val_loss: 0.1625\n",
      "Epoch 3/10\n",
      "105837/105837 [==============================] - 48s 456us/step - loss: 0.1400 - val_loss: 0.1469\n",
      "Epoch 4/10\n",
      "105837/105837 [==============================] - 49s 459us/step - loss: 0.1271 - val_loss: 0.1391\n",
      "Epoch 5/10\n",
      "105837/105837 [==============================] - 48s 457us/step - loss: 0.1183 - val_loss: 0.1298\n",
      "Epoch 6/10\n",
      "105837/105837 [==============================] - 48s 457us/step - loss: 0.1112 - val_loss: 0.1249\n",
      "Epoch 7/10\n",
      "105837/105837 [==============================] - 49s 461us/step - loss: 0.1086 - val_loss: 0.1266\n",
      "Epoch 8/10\n",
      "105837/105837 [==============================] - 48s 454us/step - loss: 0.1045 - val_loss: 0.1235\n",
      "Epoch 9/10\n",
      "105837/105837 [==============================] - 49s 461us/step - loss: 0.1005 - val_loss: 0.1308\n",
      "Epoch 10/10\n",
      "105837/105837 [==============================] - 48s 457us/step - loss: 0.0988 - val_loss: 0.1169\n"
     ]
    }
   ],
   "source": [
    "one_head_hydra.compile(learning_rate=5e-4)\n",
    "trained_one_head_hydra = one_head_hydra.fit(x_train, y_train_std, x_test, y_test_std, batch_size=64, epochs=10)"
   ]
  },
  {
   "cell_type": "code",
   "execution_count": 9,
   "metadata": {},
   "outputs": [],
   "source": [
    "two_head_hydra = HydraMethod(ResnetRnnDense, 2);two_head_hydra.compile()"
   ]
  },
  {
   "cell_type": "code",
   "execution_count": 11,
   "metadata": {},
   "outputs": [
    {
     "name": "stdout",
     "output_type": "stream",
     "text": [
      "Train on 105837 samples, validate on 10187 samples\n",
      "Epoch 1/10\n",
      "105837/105837 [==============================] - 108s 1ms/step - loss: 0.2397 - val_loss: 0.1773\n",
      "Epoch 2/10\n",
      "105837/105837 [==============================] - 96s 910us/step - loss: 0.1554 - val_loss: 0.1692\n",
      "Epoch 3/10\n",
      "105837/105837 [==============================] - 97s 912us/step - loss: 0.1355 - val_loss: 0.1434\n",
      "Epoch 4/10\n",
      "105837/105837 [==============================] - 96s 910us/step - loss: 0.1195 - val_loss: 0.1456\n",
      "Epoch 5/10\n",
      "105837/105837 [==============================] - 97s 913us/step - loss: 0.1132 - val_loss: 0.1381\n",
      "Epoch 6/10\n",
      "105837/105837 [==============================] - 97s 914us/step - loss: 0.1054 - val_loss: 0.1207\n",
      "Epoch 7/10\n",
      "105837/105837 [==============================] - 97s 916us/step - loss: 0.0998 - val_loss: 0.1204\n",
      "Epoch 8/10\n",
      "105837/105837 [==============================] - 97s 913us/step - loss: 0.0963 - val_loss: 0.1279\n",
      "Epoch 9/10\n",
      "105837/105837 [==============================] - 97s 915us/step - loss: 0.0929 - val_loss: 0.1139\n",
      "Epoch 10/10\n",
      "105837/105837 [==============================] - 97s 912us/step - loss: 0.0888 - val_loss: 0.1103\n"
     ]
    }
   ],
   "source": [
    "two_head_hydra.compile(learning_rate=5e-4)\n",
    "trained_two_head_hydra = two_head_hydra.fit(x_train, y_train_std, x_test, y_test_std, epochs=10)"
   ]
  },
  {
   "cell_type": "code",
   "execution_count": 12,
   "metadata": {},
   "outputs": [],
   "source": [
    "three_head_hydra = HydraMethod(ResnetRnnDense, 3);three_head_hydra.compile()"
   ]
  },
  {
   "cell_type": "code",
   "execution_count": 13,
   "metadata": {},
   "outputs": [
    {
     "name": "stdout",
     "output_type": "stream",
     "text": [
      "Train on 105837 samples, validate on 10187 samples\n",
      "Epoch 1/10\n",
      "105837/105837 [==============================] - 163s 2ms/step - loss: 0.2129 - val_loss: 0.1815\n",
      "Epoch 2/10\n",
      "105837/105837 [==============================] - 144s 1ms/step - loss: 0.1355 - val_loss: 0.1472\n",
      "Epoch 3/10\n",
      "105837/105837 [==============================] - 143s 1ms/step - loss: 0.1180 - val_loss: 0.1583\n",
      "Epoch 4/10\n",
      "105837/105837 [==============================] - 144s 1ms/step - loss: 0.1086 - val_loss: 0.1296\n",
      "Epoch 5/10\n",
      "105837/105837 [==============================] - 145s 1ms/step - loss: 0.1000 - val_loss: 0.1252\n",
      "Epoch 6/10\n",
      "105837/105837 [==============================] - 144s 1ms/step - loss: 0.0964 - val_loss: 0.1192\n",
      "Epoch 7/10\n",
      "105837/105837 [==============================] - 158s 1ms/step - loss: 0.0922 - val_loss: 0.1165\n",
      "Epoch 8/10\n",
      "105837/105837 [==============================] - 166s 2ms/step - loss: 0.0885 - val_loss: 0.1200\n",
      "Epoch 9/10\n",
      "105837/105837 [==============================] - 157s 1ms/step - loss: 0.0842 - val_loss: 0.1095\n",
      "Epoch 10/10\n",
      "105837/105837 [==============================] - 149s 1ms/step - loss: 0.0810 - val_loss: 0.1036\n"
     ]
    }
   ],
   "source": [
    "three_head_hydra.compile(learning_rate=5e-4)\n",
    "trained_three_head_hydra = three_head_hydra.fit(x_train, y_train_std, x_test, y_test_std, batch_size=64, epochs=10)"
   ]
  },
  {
   "cell_type": "code",
   "execution_count": 14,
   "metadata": {},
   "outputs": [],
   "source": [
    "four_head_hydra = HydraMethod(ResnetRnnDense, 4);four_head_hydra.compile()"
   ]
  },
  {
   "cell_type": "code",
   "execution_count": 15,
   "metadata": {},
   "outputs": [
    {
     "name": "stdout",
     "output_type": "stream",
     "text": [
      "Train on 105837 samples, validate on 10187 samples\n",
      "Epoch 1/10\n",
      "105837/105837 [==============================] - 221s 2ms/step - loss: 0.1948 - val_loss: 0.1718\n",
      "Epoch 2/10\n",
      "105837/105837 [==============================] - 195s 2ms/step - loss: 0.1264 - val_loss: 0.1400\n",
      "Epoch 3/10\n",
      "105837/105837 [==============================] - 194s 2ms/step - loss: 0.1096 - val_loss: 0.1387\n",
      "Epoch 4/10\n",
      "105837/105837 [==============================] - 207s 2ms/step - loss: 0.0990 - val_loss: 0.1243\n",
      "Epoch 5/10\n",
      "105837/105837 [==============================] - 215s 2ms/step - loss: 0.0938 - val_loss: 0.1177\n",
      "Epoch 6/10\n",
      "105837/105837 [==============================] - 195s 2ms/step - loss: 0.0877 - val_loss: 0.1211\n",
      "Epoch 7/10\n",
      "105837/105837 [==============================] - 195s 2ms/step - loss: 0.0838 - val_loss: 0.1160\n",
      "Epoch 8/10\n",
      "105837/105837 [==============================] - 194s 2ms/step - loss: 0.0807 - val_loss: 0.1015\n",
      "Epoch 9/10\n",
      "105837/105837 [==============================] - 194s 2ms/step - loss: 0.0777 - val_loss: 0.1071\n",
      "Epoch 10/10\n",
      "105837/105837 [==============================] - 194s 2ms/step - loss: 0.0753 - val_loss: 0.1072\n"
     ]
    }
   ],
   "source": [
    "four_head_hydra.compile(learning_rate=5e-4)\n",
    "trained_four_head_hydra = four_head_hydra.fit(x_train, y_train_std, x_test, y_test_std, batch_size=64, epochs=10)"
   ]
  },
  {
   "cell_type": "code",
   "execution_count": 16,
   "metadata": {},
   "outputs": [],
   "source": [
    "import matplotlib\n",
    "import numpy as np\n",
    "import matplotlib.pyplot as plt\n",
    "%matplotlib inline  "
   ]
  },
  {
   "cell_type": "code",
   "execution_count": 28,
   "metadata": {},
   "outputs": [],
   "source": [
    "four_model = four_head_hydra.get_model()\n",
    "four_model_loss = four_model.history.history[\"loss\"]\n",
    "four_model_val_loss = four_model.history.history[\"val_loss\"]\n",
    "\n",
    "three_model = three_head_hydra.get_model()\n",
    "three_model_loss = three_model.history.history[\"loss\"]\n",
    "three_model_val_loss = three_model.history.history[\"val_loss\"]\n",
    "\n",
    "two_model = two_head_hydra.get_model()\n",
    "two_model_loss = two_model.history.history[\"loss\"]\n",
    "two_model_val_loss = two_model.history.history[\"val_loss\"]\n",
    "\n",
    "one_model = one_head_hydra.get_model()\n",
    "one_model_loss = one_model.history.history[\"loss\"]\n",
    "one_model_val_loss = one_model.history.history[\"val_loss\"]"
   ]
  },
  {
   "cell_type": "code",
   "execution_count": 27,
   "metadata": {},
   "outputs": [
    {
     "data": {
      "image/png": "[encoded data removed]",
      "text/plain": [
       "<Figure size 432x288 with 1 Axes>"
      ]
     },
     "metadata": {},
     "output_type": "display_data"
    }
   ],
   "source": [
    "plt.plot(one_model_loss, color=\"red\")\n",
    "plt.plot(two_model_loss, color=\"blue\")\n",
    "plt.plot(three_model_loss, color=\"green\")\n",
    "plt.plot(four_model_loss, color=\"black\")\n",
    "plt.title('A simple chirp')\n",
    "plt.show()"
   ]
  },
  {
   "cell_type": "code",
   "execution_count": 29,
   "metadata": {},
   "outputs": [
    {
     "data": {
      "image/png": "[encoded data removed]",
      "text/plain": [
       "<Figure size 432x288 with 1 Axes>"
      ]
     },
     "metadata": {},
     "output_type": "display_data"
    }
   ],
   "source": [
    "plt.plot(one_model_val_loss, color=\"red\")\n",
    "plt.plot(two_model_val_loss, color=\"blue\")\n",
    "plt.plot(three_model_val_loss, color=\"green\")\n",
    "plt.plot(four_model_val_loss, color=\"black\")\n",
    "plt.title('A simple chirp')\n",
    "plt.show()"
   ]
  },
  {
   "cell_type": "code",
   "execution_count": null,
   "metadata": {},
   "outputs": [],
   "source": []
  }
 ],
 "metadata": {
  "kernelspec": {
   "display_name": "Python 3",
   "language": "python",
   "name": "python3"
  },
  "language_info": {
   "codemirror_mode": {
    "name": "ipython",
    "version": 3
   },
   "file_extension": ".py",
   "mimetype": "text/x-python",
   "name": "python",
   "nbconvert_exporter": "python",
   "pygments_lexer": "ipython3",
   "version": "3.6.5"
  }
 },
 "nbformat": 4,
 "nbformat_minor": 2
}
