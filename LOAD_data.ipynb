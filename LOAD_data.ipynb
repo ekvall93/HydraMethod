{
 "cells": [
  {
   "cell_type": "code",
   "execution_count": 1,
   "metadata": {},
   "outputs": [
    {
     "name": "stderr",
     "output_type": "stream",
     "text": [
      "/home/markus/anaconda3/lib/python3.6/site-packages/h5py/__init__.py:36: FutureWarning: Conversion of the second argument of issubdtype from `float` to `np.floating` is deprecated. In future, it will be treated as `np.float64 == np.dtype(float).type`.\n",
      "  from ._conv import register_converters as _register_converters\n",
      "Using TensorFlow backend.\n"
     ]
    }
   ],
   "source": [
    "from modelArchitecture.ResnetRnnDense import ResnetRnnDense\n",
    "from modelArchitecture.VirtualBatchNormalization import VirtualBatchNormalization\n",
    "from modelArchitecture.Attention import Attention\n",
    "from keras.models import model_from_yaml, model_from_json\n",
    "from utils import split_data, translate, save_model, standardize, result\n",
    "from HydraMethod import HydraMethod\n",
    "import keras\n",
    "from keras.callbacks import LearningRateScheduler\n",
    "from keras.optimizers import Adam\n",
    "from keras.losses import mean_absolute_error\n",
    "import math\n",
    "import numpy as np\n",
    "from keras.backend import eval"
   ]
  },
  {
   "cell_type": "code",
   "execution_count": 2,
   "metadata": {},
   "outputs": [
    {
     "name": "stdout",
     "output_type": "stream",
     "text": [
      "LRF_model.h5    all_data.h5    \u001b[0m\u001b[01;34mbest_model\u001b[0m/   hydra_new.yaml  hydra_new_C.yaml\r\n",
      "LRF_model.json  all_data.yaml  hydra_new.h5  hydra_new_C.h5\r\n"
     ]
    }
   ],
   "source": [
    "ls models"
   ]
  },
  {
   "cell_type": "code",
   "execution_count": 3,
   "metadata": {},
   "outputs": [],
   "source": [
    "yaml_file = open('models/all_data.yaml', 'r')\n",
    "loaded_model_yaml = yaml_file.read()\n",
    "yaml_file.close()\n",
    "\n",
    "model = model_from_yaml(loaded_model_yaml,\n",
    "                            custom_objects={'VirtualBatchNormalization':\n",
    "                                            VirtualBatchNormalization,\n",
    "                                            'Attention': Attention})\n",
    "model.load_weights('models/all_data.h5')"
   ]
  },
  {
   "cell_type": "code",
   "execution_count": 4,
   "metadata": {},
   "outputs": [
    {
     "name": "stdout",
     "output_type": "stream",
     "text": [
      "irt_test          non_seen_pep.csv           non_seen_pep_datafram_2.csv\r\n",
      "irt_train         non_seen_pep.npy           seq_test\r\n",
      "non_seen_irt.npy  non_seen_pep_datafram.csv  seq_train\r\n"
     ]
    }
   ],
   "source": [
    "ls data/non_seen_pep"
   ]
  },
  {
   "cell_type": "code",
   "execution_count": 12,
   "metadata": {},
   "outputs": [
    {
     "name": "stdout",
     "output_type": "stream",
     "text": [
      "15678\n"
     ]
    }
   ],
   "source": [
    "PATH = \"../data/non_seen_pep/non_seen_pep_datafram.csv\"\n",
    "splitter = split_data(PATH, PATH, train_size=0.99)\n",
    "x_train, y_train = splitter.split()\n",
    "\n"
   ]
  },
  {
   "cell_type": "code",
   "execution_count": 13,
   "metadata": {},
   "outputs": [
    {
     "data": {
      "text/plain": [
       "15678"
      ]
     },
     "execution_count": 13,
     "metadata": {},
     "output_type": "execute_result"
    }
   ],
   "source": [
    "len(x_train)"
   ]
  },
  {
   "cell_type": "code",
   "execution_count": 14,
   "metadata": {},
   "outputs": [],
   "source": [
    "translater = translate()\n",
    "\n",
    "x_train = translater.translate(x_train)\n",
    "\n",
    "\n",
    "y_train_std = standardize(y_train)"
   ]
  },
  {
   "cell_type": "code",
   "execution_count": 15,
   "metadata": {},
   "outputs": [],
   "source": [
    "hydra = HydraMethod(ResnetRnnDense(), 4)"
   ]
  },
  {
   "cell_type": "code",
   "execution_count": 16,
   "metadata": {},
   "outputs": [
    {
     "data": {
      "text/plain": [
       "15678"
      ]
     },
     "execution_count": 16,
     "metadata": {},
     "output_type": "execute_result"
    }
   ],
   "source": [
    "len(x_train)"
   ]
  },
  {
   "cell_type": "code",
   "execution_count": 17,
   "metadata": {},
   "outputs": [],
   "source": [
    "pred = model.predict(hydra.get_all_representation(x_train))"
   ]
  },
  {
   "cell_type": "code",
   "execution_count": 18,
   "metadata": {},
   "outputs": [
    {
     "name": "stdout",
     "output_type": "stream",
     "text": [
      "[23.75797401]\n"
     ]
    }
   ],
   "source": [
    "n = int(len(y_train_std)*0.95)\n",
    "dif = abs(y_train_std.flatten() - pred.flatten())\n",
    "sort_dif = np.sort(dif.flatten())\n",
    "pred = 2 * sort_dif[n] /  (max(y_train_std) - min(y_train_std)) * 100\n",
    "print(pred)"
   ]
  },
  {
   "cell_type": "code",
   "execution_count": null,
   "metadata": {},
   "outputs": [],
   "source": []
  },
  {
   "cell_type": "code",
   "execution_count": null,
   "metadata": {},
   "outputs": [],
   "source": []
  },
  {
   "cell_type": "code",
   "execution_count": null,
   "metadata": {},
   "outputs": [],
   "source": []
  },
  {
   "cell_type": "code",
   "execution_count": null,
   "metadata": {},
   "outputs": [],
   "source": [
    "from modelArchitecture.ResnetRnnDense import ResnetRnnDense\n",
    "from modelArchitecture.VirtualBatchNormalization import VirtualBatchNormalization\n",
    "from modelArchitecture.Attention import Attention\n",
    "from keras.models import model_from_yaml\n",
    "from utils import split_data, translate, save_model, standardize, result\n",
    "from HydraMethod import HydraMethod\n",
    "import keras\n",
    "from keras.callbacks import LearningRateScheduler\n",
    "from keras.optimizers import Adam\n",
    "from keras.losses import mean_squared_error\n",
    "import math\n",
    "import numpy as np\n",
    "from keras.backend import eval\n",
    "\n",
    "PATH = \"./data/\"\n",
    "splitter = split_data(PATH + \"raw.csv\", PATH, test_size=0.1, train_size=0.9)\n",
    "x_train, y_train, x_test, y_test = splitter.split()\n",
    "translater = translate()\n",
    "\n",
    "x_train = translater.translate(x_train)\n",
    "x_test = translater.translate(x_test)\n",
    "\n",
    "y_train_std, y_test_std = standardize(y_train, y_test)"
   ]
  },
  {
   "cell_type": "code",
   "execution_count": null,
   "metadata": {},
   "outputs": [],
   "source": [
    "hydra = HydraMethod(ResnetRnnDense(blocks=[2,2,2,2],features=32, ResnetDrop=0.3),4); hydra.compile()"
   ]
  },
  {
   "cell_type": "code",
   "execution_count": null,
   "metadata": {},
   "outputs": [],
   "source": [
    "x_train, x_test = hydra.get_all_representation(x_train), hydra.get_all_representation(x_test)"
   ]
  },
  {
   "cell_type": "code",
   "execution_count": null,
   "metadata": {},
   "outputs": [],
   "source": [
    "from utils import LRFinder\n",
    "lr_finder = LRFinder(hydra.get_model())\n",
    "lr_finder.find(x_train, y_train_std, 0.000001, 1, 256, 3,fit=True)"
   ]
  },
  {
   "cell_type": "code",
   "execution_count": null,
   "metadata": {},
   "outputs": [],
   "source": [
    "lr_finder.plot_loss()"
   ]
  },
  {
   "cell_type": "code",
   "execution_count": null,
   "metadata": {},
   "outputs": [],
   "source": [
    "from keras.models import model_from_json\n",
    "model = hydra.get_model()\n",
    "# serialize model to YAML\n",
    "model_yaml = model.to_yaml()\n",
    "with open(\"models/LRF_model.json\", \"w\") as yaml_file:\n",
    "    yaml_file.write(model_yaml)\n",
    "# serialize weights to HDF5\n",
    "model.save_weights(\"models/LRF_model.h5\")\n",
    "print(\"Saved model to disk\")"
   ]
  },
  {
   "cell_type": "code",
   "execution_count": null,
   "metadata": {},
   "outputs": [],
   "source": [
    "class LR():\n",
    "    def __init__(self, lr):\n",
    "        self.lr = lr\n",
    "\n",
    "    def step_decay(self, epoch):\n",
    "        initial_lrate = self.lr\n",
    "        drop = 0.4\n",
    "        epochs_drop = 10.0\n",
    "        lrate = initial_lrate * math.pow(drop,\n",
    "                                         math.floor((1+epoch)/epochs_drop))\n",
    "        print(lrate)\n",
    "        return lrate"
   ]
  },
  {
   "cell_type": "code",
   "execution_count": null,
   "metadata": {},
   "outputs": [],
   "source": [
    "def freeze_it(model, block_nr):\n",
    "    counter = 0\n",
    "    for layer in model.layers:\n",
    "        if \"add\" in layer.name:\n",
    "            counter += 1\n",
    "        if counter >= 4 * block_nr:\n",
    "            layer.trainable = True\n",
    "        else:\n",
    "            layer.trainable = False\n",
    "    print(counter / 4)\n",
    "    return model"
   ]
  },
  {
   "cell_type": "code",
   "execution_count": null,
   "metadata": {},
   "outputs": [],
   "source": [
    "def T95(model, x, y):\n",
    "    predict_train = model.predict(x)\n",
    "    res_train = result(y, predict_train)\n",
    "    print(np.round(res_train.t95()[0], 4))"
   ]
  },
  {
   "cell_type": "code",
   "execution_count": null,
   "metadata": {},
   "outputs": [],
   "source": [
    "EarlyStopping = keras.callbacks.EarlyStopping(monitor='val_loss',\n",
    "                                              min_delta=0, patience=6,\n",
    "                                              verbose=1,\n",
    "                                              restore_best_weights=True)"
   ]
  },
  {
   "cell_type": "code",
   "execution_count": null,
   "metadata": {},
   "outputs": [],
   "source": [
    "def training(model, X_train, y_train_std, X_test, y_test_std, lr, bz, k=None):\n",
    "    if k:\n",
    "        print(\"not none\")\n",
    "        model = freeze_it(model, k)\n",
    "\n",
    "    lr = LR(lr)\n",
    "    lrate = LearningRateScheduler(lr.step_decay)\n",
    "\n",
    "    model.compile(loss=mean_squared_error, optimizer=Adam(7e-5))\n",
    "    history = model.fit(X_train, y_train_std, validation_data=(X_test, y_test_std),\n",
    "              epochs=2, batch_size=bz, callbacks=[lrate, EarlyStopping])\n",
    "\n",
    "\n",
    "\n",
    "    T95(model,X_train,y_train_std)\n",
    "    T95(model,X_test,y_test_std)\n",
    "    return model\n"
   ]
  },
  {
   "cell_type": "code",
   "execution_count": null,
   "metadata": {},
   "outputs": [],
   "source": [
    "from keras.models import model_from_json\n",
    "\n",
    "yaml_file = open('models/LRF_model.json', 'r')\n",
    "loaded_model_yaml = yaml_file.read()\n",
    "yaml_file.close()\n",
    "\n",
    "model = model_from_json(loaded_model_yaml,\n",
    "                        custom_objects={'VirtualBatchNormalization':VirtualBatchNormalization, 'Attention':Attention})\n",
    "\n",
    "model.load_weights('models/LRF_model.h5')"
   ]
  },
  {
   "cell_type": "code",
   "execution_count": null,
   "metadata": {},
   "outputs": [],
   "source": [
    "lr = 5e-4\n",
    "model = training(model,x_train,y_train_std,x_test,y_test_std,lr,256)"
   ]
  },
  {
   "cell_type": "code",
   "execution_count": null,
   "metadata": {},
   "outputs": [],
   "source": [
    "#lr = eval(model.optimizer.lr) * 0.6\n",
    "model = training(model,x_train,y_train_std,x_test,y_test_std,lr,512,6)"
   ]
  },
  {
   "cell_type": "code",
   "execution_count": null,
   "metadata": {},
   "outputs": [],
   "source": []
  }
 ],
 "metadata": {
  "kernelspec": {
   "display_name": "Python 3",
   "language": "python",
   "name": "python3"
  },
  "language_info": {
   "codemirror_mode": {
    "name": "ipython",
    "version": 3
   },
   "file_extension": ".py",
   "mimetype": "text/x-python",
   "name": "python",
   "nbconvert_exporter": "python",
   "pygments_lexer": "ipython3",
   "version": "3.6.5"
  }
 },
 "nbformat": 4,
 "nbformat_minor": 2
}
