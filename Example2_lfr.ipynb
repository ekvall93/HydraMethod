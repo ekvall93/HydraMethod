{
 "cells": [
  {
   "cell_type": "code",
   "execution_count": 1,
   "metadata": {},
   "outputs": [
    {
     "name": "stderr",
     "output_type": "stream",
     "text": [
      "/home/paperspace/hydraNet/HydraMethod/utils.py:88: SyntaxWarning: assertion is always true, perhaps remove parentheses?\n",
      "  assert(test_size + train_size <= 1.0,\n",
      "/home/paperspace/hydraNet/HydraMethod/utils.py:236: SyntaxWarning: assertion is always true, perhaps remove parentheses?\n",
      "  assert(validation_split + test_split + train_size <= 1.0,\n",
      "/home/paperspace/anaconda3/lib/python3.6/site-packages/h5py/__init__.py:36: FutureWarning: Conversion of the second argument of issubdtype from `float` to `np.floating` is deprecated. In future, it will be treated as `np.float64 == np.dtype(float).type`.\n",
      "  from ._conv import register_converters as _register_converters\n",
      "Using TensorFlow backend.\n"
     ]
    }
   ],
   "source": [
    "from utils import split_data\n",
    "\n",
    "PATH = \"./data/\"\n",
    "splitter = split_data(PATH + \"raw.csv\", PATH, test_size=0.1,\n",
    "                          train_size=0.9)\n",
    "x_train, y_train, x_test, y_test = splitter.split()"
   ]
  },
  {
   "cell_type": "code",
   "execution_count": 2,
   "metadata": {},
   "outputs": [],
   "source": [
    "from utils import translate\n",
    "\n",
    "translater = translate()\n",
    "x_train = translater.translate(x_train)\n",
    "x_test = translater.translate(x_test)"
   ]
  },
  {
   "cell_type": "code",
   "execution_count": 3,
   "metadata": {},
   "outputs": [],
   "source": [
    "from utils import standardize\n",
    "\n",
    "y_train_std, y_test_std = standardize(y_train, y_test)"
   ]
  },
  {
   "cell_type": "code",
   "execution_count": 4,
   "metadata": {},
   "outputs": [],
   "source": [
    "from modelArchitecture.ResnetRnnDense import ResnetRnnDense"
   ]
  },
  {
   "cell_type": "code",
   "execution_count": 5,
   "metadata": {},
   "outputs": [],
   "source": [
    "from HydraMethod import HydraMethod"
   ]
  },
  {
   "cell_type": "code",
   "execution_count": 6,
   "metadata": {},
   "outputs": [],
   "source": [
    "one_head_hydra = HydraMethod(ResnetRnnDense, 1);one_head_hydra.compile()"
   ]
  },
  {
   "cell_type": "code",
   "execution_count": 7,
   "metadata": {},
   "outputs": [],
   "source": [
    "from utils import LRFinder"
   ]
  },
  {
   "cell_type": "code",
   "execution_count": 8,
   "metadata": {},
   "outputs": [
    {
     "name": "stderr",
     "output_type": "stream",
     "text": [
      "/home/paperspace/anaconda3/lib/python3.6/site-packages/tensorflow/python/ops/gradients_impl.py:100: UserWarning: Converting sparse IndexedSlices to a dense Tensor of unknown shape. This may consume a large amount of memory.\n",
      "  \"Converting sparse IndexedSlices to a dense Tensor of unknown shape. \"\n"
     ]
    },
    {
     "name": "stdout",
     "output_type": "stream",
     "text": [
      "Epoch 1/3\n",
      "972394/972394 [==============================] - 87s 89us/step - loss: 0.6215\n",
      "Epoch 2/3\n",
      "684544/972394 [====================>.........] - ETA: 23s - loss: 0.3324"
     ]
    }
   ],
   "source": [
    "\n",
    "lr_finder = LRFinder(one_head_hydra.get_model())\n",
    "lr_finder.find(one_head_hydra.get_all_representation(x_train), \n",
    "               y_train_std, 0.000001, 1, 512, 3,fit=True)"
   ]
  },
  {
   "cell_type": "code",
   "execution_count": 9,
   "metadata": {},
   "outputs": [
    {
     "data": {
      "image/png": "[encoded data removed]",
      "text/plain": [
       "<Figure size 432x288 with 1 Axes>"
      ]
     },
     "metadata": {},
     "output_type": "display_data"
    }
   ],
   "source": [
    "lr_finder.plot_loss()"
   ]
  },
  {
   "cell_type": "code",
   "execution_count": 10,
   "metadata": {},
   "outputs": [
    {
     "name": "stderr",
     "output_type": "stream",
     "text": [
      "/home/paperspace/anaconda3/lib/python3.6/site-packages/tensorflow/python/ops/gradients_impl.py:100: UserWarning: Converting sparse IndexedSlices to a dense Tensor of unknown shape. This may consume a large amount of memory.\n",
      "  \"Converting sparse IndexedSlices to a dense Tensor of unknown shape. \"\n"
     ]
    },
    {
     "name": "stdout",
     "output_type": "stream",
     "text": [
      "Train on 972394 samples, validate on 106575 samples\n",
      "Epoch 1/10\n",
      "972394/972394 [==============================] - 84s 87us/step - loss: 0.2060 - val_loss: 0.1299\n",
      "Epoch 2/10\n",
      "972394/972394 [==============================] - 79s 82us/step - loss: 0.1486 - val_loss: 0.1066\n",
      "Epoch 3/10\n",
      "972394/972394 [==============================] - 80s 82us/step - loss: 0.1300 - val_loss: 0.1134\n",
      "Epoch 4/10\n",
      "972394/972394 [==============================] - 80s 82us/step - loss: 0.1201 - val_loss: 0.1173\n",
      "Epoch 5/10\n",
      "972394/972394 [==============================] - 79s 82us/step - loss: 0.1138 - val_loss: 0.1001\n",
      "Epoch 6/10\n",
      "972394/972394 [==============================] - 80s 82us/step - loss: 0.1091 - val_loss: 0.0857\n",
      "Epoch 7/10\n",
      "972394/972394 [==============================] - 80s 82us/step - loss: 0.1041 - val_loss: 0.1008\n",
      "Epoch 8/10\n",
      "972394/972394 [==============================] - 79s 82us/step - loss: 0.1003 - val_loss: 0.0962\n",
      "Epoch 9/10\n",
      "972394/972394 [==============================] - 80s 82us/step - loss: 0.0981 - val_loss: 0.0779\n",
      "Epoch 10/10\n",
      "972394/972394 [==============================] - 79s 81us/step - loss: 0.0957 - val_loss: 0.0867\n"
     ]
    }
   ],
   "source": [
    "one_head_hydra.compile(learning_rate=5e-4)\n",
    "trained_one_head_hydra = one_head_hydra.fit(x_train, y_train_std, x_test, y_test_std, batch_size=512, epochs=10)"
   ]
  },
  {
   "cell_type": "code",
   "execution_count": 11,
   "metadata": {},
   "outputs": [],
   "source": [
    "two_head_hydra = HydraMethod(ResnetRnnDense, 2);two_head_hydra.compile()"
   ]
  },
  {
   "cell_type": "code",
   "execution_count": null,
   "metadata": {},
   "outputs": [
    {
     "name": "stderr",
     "output_type": "stream",
     "text": [
      "/home/paperspace/anaconda3/lib/python3.6/site-packages/tensorflow/python/ops/gradients_impl.py:100: UserWarning: Converting sparse IndexedSlices to a dense Tensor of unknown shape. This may consume a large amount of memory.\n",
      "  \"Converting sparse IndexedSlices to a dense Tensor of unknown shape. \"\n"
     ]
    },
    {
     "name": "stdout",
     "output_type": "stream",
     "text": [
      "Epoch 1/3\n",
      "972394/972394 [==============================] - 173s 178us/step - loss: 0.6331\n",
      "Epoch 2/3\n",
      " 41984/972394 [>.............................] - ETA: 2:34 - loss: 0.3308"
     ]
    }
   ],
   "source": [
    "lr_finder = LRFinder(two_head_hydra.get_model())\n",
    "lr_finder.find(two_head_hydra.get_all_representation(x_train), \n",
    "               y_train_std, 0.000001, 1, 512, 3,fit=True)"
   ]
  },
  {
   "cell_type": "code",
   "execution_count": null,
   "metadata": {},
   "outputs": [],
   "source": [
    "lr_finder.plot_loss()"
   ]
  },
  {
   "cell_type": "code",
   "execution_count": null,
   "metadata": {},
   "outputs": [],
   "source": [
    "two_head_hydra.compile(learning_rate=5e-4)\n",
    "trained_two_head_hydra = two_head_hydra.fit(x_train, y_train_std, x_test, y_test_std, , epochs=10)"
   ]
  },
  {
   "cell_type": "code",
   "execution_count": null,
   "metadata": {},
   "outputs": [],
   "source": [
    "three_head_hydra = HydraMethod(ResnetRnnDense, 3);three_head_hydra.compile()"
   ]
  },
  {
   "cell_type": "code",
   "execution_count": null,
   "metadata": {},
   "outputs": [],
   "source": [
    "lr_finder = LRFinder(three_head_hydra.get_model())\n",
    "lr_finder.find(three_head_hydra.get_all_representation(x_train), \n",
    "               y_train_std, 0.000001, 1, 64, 3,fit=True)"
   ]
  },
  {
   "cell_type": "code",
   "execution_count": null,
   "metadata": {},
   "outputs": [],
   "source": [
    "lr_finder.plot_loss()"
   ]
  },
  {
   "cell_type": "code",
   "execution_count": null,
   "metadata": {},
   "outputs": [],
   "source": [
    "three_head_hydra.compile(learning_rate=5e-4)\n",
    "trained_three_head_hydra = three_head_hydra.fit(x_train, y_train_std, x_test, y_test_std, batch_size=64, epochs=10)"
   ]
  },
  {
   "cell_type": "code",
   "execution_count": null,
   "metadata": {},
   "outputs": [],
   "source": [
    "four_head_hydra = HydraMethod(ResnetRnnDense, 4);four_head_hydra.compile()"
   ]
  },
  {
   "cell_type": "code",
   "execution_count": null,
   "metadata": {},
   "outputs": [],
   "source": [
    "lr_finder = LRFinder(four_head_hydra.get_model())\n",
    "lr_finder.find(four_head_hydra.get_all_representation(x_train), \n",
    "               y_train_std, 0.000001, 1, 64, 3,fit=True)"
   ]
  },
  {
   "cell_type": "code",
   "execution_count": null,
   "metadata": {},
   "outputs": [],
   "source": [
    "lr_finder.plot_loss()"
   ]
  },
  {
   "cell_type": "code",
   "execution_count": null,
   "metadata": {},
   "outputs": [],
   "source": [
    "four_head_hydra.compile(learning_rate=5e-4)\n",
    "trained_four_head_hydra = four_head_hydra.fit(x_train, y_train_std, x_test, y_test_std, batch_size=64, epochs=10)"
   ]
  },
  {
   "cell_type": "code",
   "execution_count": null,
   "metadata": {},
   "outputs": [],
   "source": []
  },
  {
   "cell_type": "code",
   "execution_count": null,
   "metadata": {},
   "outputs": [],
   "source": []
  }
 ],
 "metadata": {
  "kernelspec": {
   "display_name": "Python 3",
   "language": "python",
   "name": "python3"
  },
  "language_info": {
   "codemirror_mode": {
    "name": "ipython",
    "version": 3
   },
   "file_extension": ".py",
   "mimetype": "text/x-python",
   "name": "python",
   "nbconvert_exporter": "python",
   "pygments_lexer": "ipython3",
   "version": "3.6.5"
  }
 },
 "nbformat": 4,
 "nbformat_minor": 2
}
